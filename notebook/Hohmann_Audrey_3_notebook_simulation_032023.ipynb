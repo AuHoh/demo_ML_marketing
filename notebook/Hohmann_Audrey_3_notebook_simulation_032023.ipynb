{
 "cells": [
  {
   "cell_type": "markdown",
   "id": "aa310740-aeed-4cbf-b096-829756faed48",
   "metadata": {
    "tags": []
   },
   "source": [
    "Auteur : Audrey Hohmann\n",
    "\n",
    "# Projet P5 : Notebook maintenance - simulations : Segmentez des clients d'un site e-commerce\n",
    "Un notebook de simulation pour déterminer la fréquence nécessaire de mise à jour du modèle de segmentation.\n",
    " \n",
    "## Mission : utiliser des méthodes non supervisées pour regrouper des clients de profils similaires. \n",
    "\n",
    "## Data : \"Brazilian E-Commerce Public Dataset by Olist\" : \n",
    "Notes : \n",
    "- Une commande peut comporter plusieurs articles.\n",
    "- Chaque article peut être livré par un vendeur distinct.\n",
    "- Tous les textes identifiant les magasins et les partenaires ont été remplacés par les noms des grandes maisons de Game of Thrones."
   ]
  },
  {
   "cell_type": "code",
   "execution_count": 3,
   "id": "70de3d7e-b22e-4097-a853-6bcdcdebbbfa",
   "metadata": {},
   "outputs": [],
   "source": [
    "%matplotlib inline"
   ]
  },
  {
   "cell_type": "code",
   "execution_count": 4,
   "id": "55a3e0b0-a015-428d-b2e9-5a3ec06c275b",
   "metadata": {},
   "outputs": [],
   "source": [
    "import pandas as pd\n",
    "import numpy as np\n",
    "import seaborn as sns\n",
    "import matplotlib as mpl\n",
    "import missingno as msn\n",
    "import datetime\n",
    "\n",
    "from matplotlib import pyplot as plt"
   ]
  },
  {
   "cell_type": "code",
   "execution_count": 5,
   "id": "6171fc2e-29ff-49e3-aaa2-f182a43782fd",
   "metadata": {},
   "outputs": [],
   "source": [
    "# pour le clusteting\n",
    "from sklearn.preprocessing import StandardScaler, MinMaxScaler\n",
    "from sklearn.cluster import KMeans, MiniBatchKMeans\n",
    "\n",
    "from sklearn import metrics"
   ]
  },
  {
   "cell_type": "code",
   "execution_count": 6,
   "id": "b69fd7d6-461b-4c4a-a19e-1ce2ff55bb60",
   "metadata": {},
   "outputs": [],
   "source": [
    "pd.options.mode.chained_assignment = None "
   ]
  },
  {
   "cell_type": "code",
   "execution_count": 7,
   "id": "377e02e2-1a4e-4337-aa53-07ac1c967dfc",
   "metadata": {},
   "outputs": [],
   "source": [
    "pd.set_option('display.max_rows', 5000)\n",
    "pd.set_option('display.max_columns', None)\n",
    "pd.set_option('display.width', None)\n",
    "pd.set_option('display.max_colwidth', None)"
   ]
  },
  {
   "cell_type": "markdown",
   "id": "2a3eb706-dc3e-49a1-af1d-a29a960982b4",
   "metadata": {
    "tags": []
   },
   "source": [
    "# Contrat de maintenance"
   ]
  },
  {
   "cell_type": "code",
   "execution_count": 8,
   "id": "3c5ddda8-1608-4ecb-9a9a-698cdb48f9bf",
   "metadata": {},
   "outputs": [],
   "source": [
    "df_mcommande = pd.read_csv('data_P5_mcommande.csv')"
   ]
  },
  {
   "cell_type": "code",
   "execution_count": 9,
   "id": "8b29247d-3c06-46a8-8695-2b71580b397d",
   "metadata": {},
   "outputs": [
    {
     "data": {
      "text/html": [
       "<div>\n",
       "<style scoped>\n",
       "    .dataframe tbody tr th:only-of-type {\n",
       "        vertical-align: middle;\n",
       "    }\n",
       "\n",
       "    .dataframe tbody tr th {\n",
       "        vertical-align: top;\n",
       "    }\n",
       "\n",
       "    .dataframe thead th {\n",
       "        text-align: right;\n",
       "    }\n",
       "</style>\n",
       "<table border=\"1\" class=\"dataframe\">\n",
       "  <thead>\n",
       "    <tr style=\"text-align: right;\">\n",
       "      <th></th>\n",
       "      <th>order_id</th>\n",
       "      <th>customer_id</th>\n",
       "      <th>order_status</th>\n",
       "      <th>order_purchase_timestamp</th>\n",
       "      <th>order_approved_at</th>\n",
       "      <th>order_delivered_carrier_date</th>\n",
       "      <th>order_delivered_customer_date</th>\n",
       "      <th>order_estimated_delivery_date</th>\n",
       "      <th>customer_unique_id</th>\n",
       "      <th>customer_zip_code_prefix</th>\n",
       "      <th>customer_city</th>\n",
       "      <th>customer_state</th>\n",
       "      <th>payment_sequential</th>\n",
       "      <th>payment_type</th>\n",
       "      <th>payment_installments</th>\n",
       "      <th>payment_value</th>\n",
       "      <th>order_item_id</th>\n",
       "      <th>product_id</th>\n",
       "      <th>seller_id</th>\n",
       "      <th>shipping_limit_date</th>\n",
       "      <th>price</th>\n",
       "      <th>freight_value</th>\n",
       "      <th>product_category_name</th>\n",
       "      <th>product_name_lenght</th>\n",
       "      <th>product_description_lenght</th>\n",
       "      <th>product_photos_qty</th>\n",
       "      <th>product_weight_g</th>\n",
       "      <th>product_length_cm</th>\n",
       "      <th>product_height_cm</th>\n",
       "      <th>product_width_cm</th>\n",
       "      <th>product_category_name_english</th>\n",
       "      <th>review_score</th>\n",
       "    </tr>\n",
       "  </thead>\n",
       "  <tbody>\n",
       "    <tr>\n",
       "      <th>0</th>\n",
       "      <td>e481f51cbdc54678b7cc49136f2d6af7</td>\n",
       "      <td>9ef432eb6251297304e76186b10a928d</td>\n",
       "      <td>delivered</td>\n",
       "      <td>2017-10-02 10:56:33</td>\n",
       "      <td>2017-10-02 11:07:15</td>\n",
       "      <td>2017-10-04 19:55:00</td>\n",
       "      <td>2017-10-10 21:25:13</td>\n",
       "      <td>2017-10-18</td>\n",
       "      <td>7c396fd4830fd04220f754e42b4e5bff</td>\n",
       "      <td>3149</td>\n",
       "      <td>sao paulo</td>\n",
       "      <td>SP</td>\n",
       "      <td>1.0</td>\n",
       "      <td>credit_card</td>\n",
       "      <td>1.0</td>\n",
       "      <td>18.12</td>\n",
       "      <td>1</td>\n",
       "      <td>87285b34884572647811a353c7ac498a</td>\n",
       "      <td>3504c0cb71d7fa48d967e0e4c94d59d9</td>\n",
       "      <td>2017-10-06 11:07:15</td>\n",
       "      <td>29.99</td>\n",
       "      <td>8.72</td>\n",
       "      <td>utilidades_domesticas</td>\n",
       "      <td>40.0</td>\n",
       "      <td>268.0</td>\n",
       "      <td>4.0</td>\n",
       "      <td>500.0</td>\n",
       "      <td>19.0</td>\n",
       "      <td>8.0</td>\n",
       "      <td>13.0</td>\n",
       "      <td>housewares</td>\n",
       "      <td>4.0</td>\n",
       "    </tr>\n",
       "    <tr>\n",
       "      <th>1</th>\n",
       "      <td>e481f51cbdc54678b7cc49136f2d6af7</td>\n",
       "      <td>9ef432eb6251297304e76186b10a928d</td>\n",
       "      <td>delivered</td>\n",
       "      <td>2017-10-02 10:56:33</td>\n",
       "      <td>2017-10-02 11:07:15</td>\n",
       "      <td>2017-10-04 19:55:00</td>\n",
       "      <td>2017-10-10 21:25:13</td>\n",
       "      <td>2017-10-18</td>\n",
       "      <td>7c396fd4830fd04220f754e42b4e5bff</td>\n",
       "      <td>3149</td>\n",
       "      <td>sao paulo</td>\n",
       "      <td>SP</td>\n",
       "      <td>3.0</td>\n",
       "      <td>voucher</td>\n",
       "      <td>1.0</td>\n",
       "      <td>2.00</td>\n",
       "      <td>1</td>\n",
       "      <td>87285b34884572647811a353c7ac498a</td>\n",
       "      <td>3504c0cb71d7fa48d967e0e4c94d59d9</td>\n",
       "      <td>2017-10-06 11:07:15</td>\n",
       "      <td>29.99</td>\n",
       "      <td>8.72</td>\n",
       "      <td>utilidades_domesticas</td>\n",
       "      <td>40.0</td>\n",
       "      <td>268.0</td>\n",
       "      <td>4.0</td>\n",
       "      <td>500.0</td>\n",
       "      <td>19.0</td>\n",
       "      <td>8.0</td>\n",
       "      <td>13.0</td>\n",
       "      <td>housewares</td>\n",
       "      <td>4.0</td>\n",
       "    </tr>\n",
       "    <tr>\n",
       "      <th>2</th>\n",
       "      <td>e481f51cbdc54678b7cc49136f2d6af7</td>\n",
       "      <td>9ef432eb6251297304e76186b10a928d</td>\n",
       "      <td>delivered</td>\n",
       "      <td>2017-10-02 10:56:33</td>\n",
       "      <td>2017-10-02 11:07:15</td>\n",
       "      <td>2017-10-04 19:55:00</td>\n",
       "      <td>2017-10-10 21:25:13</td>\n",
       "      <td>2017-10-18</td>\n",
       "      <td>7c396fd4830fd04220f754e42b4e5bff</td>\n",
       "      <td>3149</td>\n",
       "      <td>sao paulo</td>\n",
       "      <td>SP</td>\n",
       "      <td>2.0</td>\n",
       "      <td>voucher</td>\n",
       "      <td>1.0</td>\n",
       "      <td>18.59</td>\n",
       "      <td>1</td>\n",
       "      <td>87285b34884572647811a353c7ac498a</td>\n",
       "      <td>3504c0cb71d7fa48d967e0e4c94d59d9</td>\n",
       "      <td>2017-10-06 11:07:15</td>\n",
       "      <td>29.99</td>\n",
       "      <td>8.72</td>\n",
       "      <td>utilidades_domesticas</td>\n",
       "      <td>40.0</td>\n",
       "      <td>268.0</td>\n",
       "      <td>4.0</td>\n",
       "      <td>500.0</td>\n",
       "      <td>19.0</td>\n",
       "      <td>8.0</td>\n",
       "      <td>13.0</td>\n",
       "      <td>housewares</td>\n",
       "      <td>4.0</td>\n",
       "    </tr>\n",
       "    <tr>\n",
       "      <th>3</th>\n",
       "      <td>53cdb2fc8bc7dce0b6741e2150273451</td>\n",
       "      <td>b0830fb4747a6c6d20dea0b8c802d7ef</td>\n",
       "      <td>delivered</td>\n",
       "      <td>2018-07-24 20:41:37</td>\n",
       "      <td>2018-07-26 03:24:27</td>\n",
       "      <td>2018-07-26 14:31:00</td>\n",
       "      <td>2018-08-07 15:27:45</td>\n",
       "      <td>2018-08-13</td>\n",
       "      <td>af07308b275d755c9edb36a90c618231</td>\n",
       "      <td>47813</td>\n",
       "      <td>barreiras</td>\n",
       "      <td>BA</td>\n",
       "      <td>1.0</td>\n",
       "      <td>boleto</td>\n",
       "      <td>1.0</td>\n",
       "      <td>141.46</td>\n",
       "      <td>1</td>\n",
       "      <td>595fac2a385ac33a80bd5114aec74eb8</td>\n",
       "      <td>289cdb325fb7e7f891c38608bf9e0962</td>\n",
       "      <td>2018-07-30 03:24:27</td>\n",
       "      <td>118.70</td>\n",
       "      <td>22.76</td>\n",
       "      <td>perfumaria</td>\n",
       "      <td>29.0</td>\n",
       "      <td>178.0</td>\n",
       "      <td>1.0</td>\n",
       "      <td>400.0</td>\n",
       "      <td>19.0</td>\n",
       "      <td>13.0</td>\n",
       "      <td>19.0</td>\n",
       "      <td>perfumery</td>\n",
       "      <td>4.0</td>\n",
       "    </tr>\n",
       "    <tr>\n",
       "      <th>4</th>\n",
       "      <td>47770eb9100c2d0c44946d9cf07ec65d</td>\n",
       "      <td>41ce2a54c0b03bf3443c3d931a367089</td>\n",
       "      <td>delivered</td>\n",
       "      <td>2018-08-08 08:38:49</td>\n",
       "      <td>2018-08-08 08:55:23</td>\n",
       "      <td>2018-08-08 13:50:00</td>\n",
       "      <td>2018-08-17 18:06:29</td>\n",
       "      <td>2018-09-04</td>\n",
       "      <td>3a653a41f6f9fc3d2a113cf8398680e8</td>\n",
       "      <td>75265</td>\n",
       "      <td>vianopolis</td>\n",
       "      <td>GO</td>\n",
       "      <td>1.0</td>\n",
       "      <td>credit_card</td>\n",
       "      <td>3.0</td>\n",
       "      <td>179.12</td>\n",
       "      <td>1</td>\n",
       "      <td>aa4383b373c6aca5d8797843e5594415</td>\n",
       "      <td>4869f7a5dfa277a7dca6462dcf3b52b2</td>\n",
       "      <td>2018-08-13 08:55:23</td>\n",
       "      <td>159.90</td>\n",
       "      <td>19.22</td>\n",
       "      <td>automotivo</td>\n",
       "      <td>46.0</td>\n",
       "      <td>232.0</td>\n",
       "      <td>1.0</td>\n",
       "      <td>420.0</td>\n",
       "      <td>24.0</td>\n",
       "      <td>19.0</td>\n",
       "      <td>21.0</td>\n",
       "      <td>auto</td>\n",
       "      <td>5.0</td>\n",
       "    </tr>\n",
       "  </tbody>\n",
       "</table>\n",
       "</div>"
      ],
      "text/plain": [
       "                           order_id                       customer_id  \\\n",
       "0  e481f51cbdc54678b7cc49136f2d6af7  9ef432eb6251297304e76186b10a928d   \n",
       "1  e481f51cbdc54678b7cc49136f2d6af7  9ef432eb6251297304e76186b10a928d   \n",
       "2  e481f51cbdc54678b7cc49136f2d6af7  9ef432eb6251297304e76186b10a928d   \n",
       "3  53cdb2fc8bc7dce0b6741e2150273451  b0830fb4747a6c6d20dea0b8c802d7ef   \n",
       "4  47770eb9100c2d0c44946d9cf07ec65d  41ce2a54c0b03bf3443c3d931a367089   \n",
       "\n",
       "  order_status order_purchase_timestamp    order_approved_at  \\\n",
       "0    delivered      2017-10-02 10:56:33  2017-10-02 11:07:15   \n",
       "1    delivered      2017-10-02 10:56:33  2017-10-02 11:07:15   \n",
       "2    delivered      2017-10-02 10:56:33  2017-10-02 11:07:15   \n",
       "3    delivered      2018-07-24 20:41:37  2018-07-26 03:24:27   \n",
       "4    delivered      2018-08-08 08:38:49  2018-08-08 08:55:23   \n",
       "\n",
       "  order_delivered_carrier_date order_delivered_customer_date  \\\n",
       "0          2017-10-04 19:55:00           2017-10-10 21:25:13   \n",
       "1          2017-10-04 19:55:00           2017-10-10 21:25:13   \n",
       "2          2017-10-04 19:55:00           2017-10-10 21:25:13   \n",
       "3          2018-07-26 14:31:00           2018-08-07 15:27:45   \n",
       "4          2018-08-08 13:50:00           2018-08-17 18:06:29   \n",
       "\n",
       "  order_estimated_delivery_date                customer_unique_id  \\\n",
       "0                    2017-10-18  7c396fd4830fd04220f754e42b4e5bff   \n",
       "1                    2017-10-18  7c396fd4830fd04220f754e42b4e5bff   \n",
       "2                    2017-10-18  7c396fd4830fd04220f754e42b4e5bff   \n",
       "3                    2018-08-13  af07308b275d755c9edb36a90c618231   \n",
       "4                    2018-09-04  3a653a41f6f9fc3d2a113cf8398680e8   \n",
       "\n",
       "   customer_zip_code_prefix customer_city customer_state  payment_sequential  \\\n",
       "0                      3149     sao paulo             SP                 1.0   \n",
       "1                      3149     sao paulo             SP                 3.0   \n",
       "2                      3149     sao paulo             SP                 2.0   \n",
       "3                     47813     barreiras             BA                 1.0   \n",
       "4                     75265    vianopolis             GO                 1.0   \n",
       "\n",
       "  payment_type  payment_installments  payment_value  order_item_id  \\\n",
       "0  credit_card                   1.0          18.12              1   \n",
       "1      voucher                   1.0           2.00              1   \n",
       "2      voucher                   1.0          18.59              1   \n",
       "3       boleto                   1.0         141.46              1   \n",
       "4  credit_card                   3.0         179.12              1   \n",
       "\n",
       "                         product_id                         seller_id  \\\n",
       "0  87285b34884572647811a353c7ac498a  3504c0cb71d7fa48d967e0e4c94d59d9   \n",
       "1  87285b34884572647811a353c7ac498a  3504c0cb71d7fa48d967e0e4c94d59d9   \n",
       "2  87285b34884572647811a353c7ac498a  3504c0cb71d7fa48d967e0e4c94d59d9   \n",
       "3  595fac2a385ac33a80bd5114aec74eb8  289cdb325fb7e7f891c38608bf9e0962   \n",
       "4  aa4383b373c6aca5d8797843e5594415  4869f7a5dfa277a7dca6462dcf3b52b2   \n",
       "\n",
       "   shipping_limit_date   price  freight_value  product_category_name  \\\n",
       "0  2017-10-06 11:07:15   29.99           8.72  utilidades_domesticas   \n",
       "1  2017-10-06 11:07:15   29.99           8.72  utilidades_domesticas   \n",
       "2  2017-10-06 11:07:15   29.99           8.72  utilidades_domesticas   \n",
       "3  2018-07-30 03:24:27  118.70          22.76             perfumaria   \n",
       "4  2018-08-13 08:55:23  159.90          19.22             automotivo   \n",
       "\n",
       "   product_name_lenght  product_description_lenght  product_photos_qty  \\\n",
       "0                 40.0                       268.0                 4.0   \n",
       "1                 40.0                       268.0                 4.0   \n",
       "2                 40.0                       268.0                 4.0   \n",
       "3                 29.0                       178.0                 1.0   \n",
       "4                 46.0                       232.0                 1.0   \n",
       "\n",
       "   product_weight_g  product_length_cm  product_height_cm  product_width_cm  \\\n",
       "0             500.0               19.0                8.0              13.0   \n",
       "1             500.0               19.0                8.0              13.0   \n",
       "2             500.0               19.0                8.0              13.0   \n",
       "3             400.0               19.0               13.0              19.0   \n",
       "4             420.0               24.0               19.0              21.0   \n",
       "\n",
       "  product_category_name_english  review_score  \n",
       "0                    housewares           4.0  \n",
       "1                    housewares           4.0  \n",
       "2                    housewares           4.0  \n",
       "3                     perfumery           4.0  \n",
       "4                          auto           5.0  "
      ]
     },
     "execution_count": 9,
     "metadata": {},
     "output_type": "execute_result"
    }
   ],
   "source": [
    "df_mcommande.head()"
   ]
  },
  {
   "cell_type": "code",
   "execution_count": 10,
   "id": "6df75dcf-4a39-472c-bb2f-7566faf0a036",
   "metadata": {},
   "outputs": [],
   "source": [
    "df_mcommande['order_purchase_timestamp'] = pd.to_datetime(df_mcommande['order_purchase_timestamp'])"
   ]
  },
  {
   "cell_type": "code",
   "execution_count": 11,
   "id": "5be76cd8-2223-4f65-9ef9-e947ca75de1f",
   "metadata": {},
   "outputs": [],
   "source": [
    "df_mcommande_ordered = df_mcommande.sort_values('order_purchase_timestamp')"
   ]
  },
  {
   "cell_type": "code",
   "execution_count": 12,
   "id": "932316b9-b08d-4381-921c-4329a9e00c71",
   "metadata": {},
   "outputs": [],
   "source": [
    "df_mcommande_ordered['order_purchase_date'] = df_mcommande['order_purchase_timestamp'].dt.strftime('%Y-%m-%d')"
   ]
  },
  {
   "cell_type": "code",
   "execution_count": 13,
   "id": "d27c0806-4a17-475b-9ac5-fa319d93dab0",
   "metadata": {},
   "outputs": [
    {
     "data": {
      "text/html": [
       "<div>\n",
       "<style scoped>\n",
       "    .dataframe tbody tr th:only-of-type {\n",
       "        vertical-align: middle;\n",
       "    }\n",
       "\n",
       "    .dataframe tbody tr th {\n",
       "        vertical-align: top;\n",
       "    }\n",
       "\n",
       "    .dataframe thead th {\n",
       "        text-align: right;\n",
       "    }\n",
       "</style>\n",
       "<table border=\"1\" class=\"dataframe\">\n",
       "  <thead>\n",
       "    <tr style=\"text-align: right;\">\n",
       "      <th></th>\n",
       "      <th>order_id</th>\n",
       "      <th>customer_id</th>\n",
       "      <th>order_status</th>\n",
       "      <th>order_purchase_timestamp</th>\n",
       "      <th>order_approved_at</th>\n",
       "      <th>order_delivered_carrier_date</th>\n",
       "      <th>order_delivered_customer_date</th>\n",
       "      <th>order_estimated_delivery_date</th>\n",
       "      <th>customer_unique_id</th>\n",
       "      <th>customer_zip_code_prefix</th>\n",
       "      <th>customer_city</th>\n",
       "      <th>customer_state</th>\n",
       "      <th>payment_sequential</th>\n",
       "      <th>payment_type</th>\n",
       "      <th>payment_installments</th>\n",
       "      <th>payment_value</th>\n",
       "      <th>order_item_id</th>\n",
       "      <th>product_id</th>\n",
       "      <th>seller_id</th>\n",
       "      <th>shipping_limit_date</th>\n",
       "      <th>price</th>\n",
       "      <th>freight_value</th>\n",
       "      <th>product_category_name</th>\n",
       "      <th>product_name_lenght</th>\n",
       "      <th>product_description_lenght</th>\n",
       "      <th>product_photos_qty</th>\n",
       "      <th>product_weight_g</th>\n",
       "      <th>product_length_cm</th>\n",
       "      <th>product_height_cm</th>\n",
       "      <th>product_width_cm</th>\n",
       "      <th>product_category_name_english</th>\n",
       "      <th>review_score</th>\n",
       "      <th>order_purchase_date</th>\n",
       "    </tr>\n",
       "  </thead>\n",
       "  <tbody>\n",
       "    <tr>\n",
       "      <th>108467</th>\n",
       "      <td>3b697a20d9e427646d92567910af6d57</td>\n",
       "      <td>355077684019f7f60a031656bd7262b8</td>\n",
       "      <td>delivered</td>\n",
       "      <td>2016-10-03 09:44:50</td>\n",
       "      <td>2016-10-06 15:50:54</td>\n",
       "      <td>2016-10-23 14:02:13</td>\n",
       "      <td>2016-10-26 14:02:13</td>\n",
       "      <td>2016-10-27</td>\n",
       "      <td>32ea3bdedab835c3aa6cb68ce66565ef</td>\n",
       "      <td>4106</td>\n",
       "      <td>sao paulo</td>\n",
       "      <td>SP</td>\n",
       "      <td>1.0</td>\n",
       "      <td>boleto</td>\n",
       "      <td>1.0</td>\n",
       "      <td>45.46</td>\n",
       "      <td>1</td>\n",
       "      <td>3ae08df6bcbfe23586dd431c40bddbb7</td>\n",
       "      <td>522620dcb18a6b31cd7bdf73665113a9</td>\n",
       "      <td>2016-10-21 16:27:20</td>\n",
       "      <td>29.90</td>\n",
       "      <td>15.56</td>\n",
       "      <td>relogios_presentes</td>\n",
       "      <td>63.0</td>\n",
       "      <td>1642.0</td>\n",
       "      <td>3.0</td>\n",
       "      <td>300.0</td>\n",
       "      <td>16.0</td>\n",
       "      <td>16.0</td>\n",
       "      <td>16.0</td>\n",
       "      <td>watches_gifts</td>\n",
       "      <td>4.0</td>\n",
       "      <td>2016-10-03</td>\n",
       "    </tr>\n",
       "    <tr>\n",
       "      <th>33111</th>\n",
       "      <td>be5bc2f0da14d8071e2d45451ad119d9</td>\n",
       "      <td>7ec40b22510fdbea1b08921dd39e63d8</td>\n",
       "      <td>delivered</td>\n",
       "      <td>2016-10-03 16:56:50</td>\n",
       "      <td>2016-10-06 16:03:44</td>\n",
       "      <td>2016-10-21 16:33:46</td>\n",
       "      <td>2016-10-27 18:19:38</td>\n",
       "      <td>2016-11-07</td>\n",
       "      <td>2f64e403852e6893ae37485d5fcacdaf</td>\n",
       "      <td>98280</td>\n",
       "      <td>panambi</td>\n",
       "      <td>RS</td>\n",
       "      <td>1.0</td>\n",
       "      <td>boleto</td>\n",
       "      <td>1.0</td>\n",
       "      <td>39.09</td>\n",
       "      <td>1</td>\n",
       "      <td>fd7fd78fd3cbc1b0a6370a7909c0a629</td>\n",
       "      <td>f09b760d23495ac9a7e00d29b769007c</td>\n",
       "      <td>2016-10-21 16:33:46</td>\n",
       "      <td>21.90</td>\n",
       "      <td>17.19</td>\n",
       "      <td>esporte_lazer</td>\n",
       "      <td>39.0</td>\n",
       "      <td>518.0</td>\n",
       "      <td>1.0</td>\n",
       "      <td>400.0</td>\n",
       "      <td>16.0</td>\n",
       "      <td>16.0</td>\n",
       "      <td>16.0</td>\n",
       "      <td>sports_leisure</td>\n",
       "      <td>4.0</td>\n",
       "      <td>2016-10-03</td>\n",
       "    </tr>\n",
       "    <tr>\n",
       "      <th>113950</th>\n",
       "      <td>a41c8759fbe7aab36ea07e038b2d4465</td>\n",
       "      <td>6f989332712d3222b6571b1cf5b835ce</td>\n",
       "      <td>delivered</td>\n",
       "      <td>2016-10-03 21:13:36</td>\n",
       "      <td>2016-10-05 03:11:49</td>\n",
       "      <td>2016-10-25 11:57:59</td>\n",
       "      <td>2016-11-03 10:58:07</td>\n",
       "      <td>2016-11-29</td>\n",
       "      <td>61db744d2f835035a5625b59350c6b63</td>\n",
       "      <td>90040</td>\n",
       "      <td>porto alegre</td>\n",
       "      <td>RS</td>\n",
       "      <td>1.0</td>\n",
       "      <td>boleto</td>\n",
       "      <td>1.0</td>\n",
       "      <td>53.73</td>\n",
       "      <td>1</td>\n",
       "      <td>b72b39418216e944bb34e35f4d3ea8c7</td>\n",
       "      <td>45d33f715e24d15a6ccf5c17b3a23e3c</td>\n",
       "      <td>2016-10-21 16:18:26</td>\n",
       "      <td>36.49</td>\n",
       "      <td>17.24</td>\n",
       "      <td>esporte_lazer</td>\n",
       "      <td>39.0</td>\n",
       "      <td>141.0</td>\n",
       "      <td>1.0</td>\n",
       "      <td>767.0</td>\n",
       "      <td>26.0</td>\n",
       "      <td>8.0</td>\n",
       "      <td>20.0</td>\n",
       "      <td>sports_leisure</td>\n",
       "      <td>3.0</td>\n",
       "      <td>2016-10-03</td>\n",
       "    </tr>\n",
       "    <tr>\n",
       "      <th>102777</th>\n",
       "      <td>d207cc272675637bfed0062edffd0818</td>\n",
       "      <td>b8cf418e97ae795672d326288dfab7a7</td>\n",
       "      <td>delivered</td>\n",
       "      <td>2016-10-03 22:06:03</td>\n",
       "      <td>2016-10-04 10:28:07</td>\n",
       "      <td>2016-10-21 14:23:37</td>\n",
       "      <td>2016-10-31 11:07:42</td>\n",
       "      <td>2016-11-23</td>\n",
       "      <td>8d3a54507421dbd2ce0a1d58046826e0</td>\n",
       "      <td>13185</td>\n",
       "      <td>hortolandia</td>\n",
       "      <td>SP</td>\n",
       "      <td>1.0</td>\n",
       "      <td>credit_card</td>\n",
       "      <td>6.0</td>\n",
       "      <td>133.46</td>\n",
       "      <td>1</td>\n",
       "      <td>107177bf61755f05c604fe57e02467d6</td>\n",
       "      <td>cca3071e3e9bb7d12640c9fbe2301306</td>\n",
       "      <td>2016-10-21 16:23:06</td>\n",
       "      <td>119.90</td>\n",
       "      <td>13.56</td>\n",
       "      <td>moveis_decoracao</td>\n",
       "      <td>55.0</td>\n",
       "      <td>130.0</td>\n",
       "      <td>1.0</td>\n",
       "      <td>2050.0</td>\n",
       "      <td>40.0</td>\n",
       "      <td>11.0</td>\n",
       "      <td>34.0</td>\n",
       "      <td>furniture_decor</td>\n",
       "      <td>1.0</td>\n",
       "      <td>2016-10-03</td>\n",
       "    </tr>\n",
       "    <tr>\n",
       "      <th>7784</th>\n",
       "      <td>cd3b8574c82b42fc8129f6d502690c3e</td>\n",
       "      <td>7812fcebfc5e8065d31e1bb5f0017dae</td>\n",
       "      <td>delivered</td>\n",
       "      <td>2016-10-03 22:31:31</td>\n",
       "      <td>2016-10-04 10:19:23</td>\n",
       "      <td>2016-10-08 10:34:01</td>\n",
       "      <td>2016-10-14 16:08:00</td>\n",
       "      <td>2016-11-23</td>\n",
       "      <td>87776adb449c551e74c13fc34f036105</td>\n",
       "      <td>12030</td>\n",
       "      <td>taubate</td>\n",
       "      <td>SP</td>\n",
       "      <td>1.0</td>\n",
       "      <td>credit_card</td>\n",
       "      <td>4.0</td>\n",
       "      <td>40.95</td>\n",
       "      <td>1</td>\n",
       "      <td>e2a1d45a73dc7f5a7f9236b043431b89</td>\n",
       "      <td>b499c00f28f4b7069ff6550af8c1348a</td>\n",
       "      <td>2016-10-08 10:34:01</td>\n",
       "      <td>29.99</td>\n",
       "      <td>10.96</td>\n",
       "      <td>fashion_calcados</td>\n",
       "      <td>56.0</td>\n",
       "      <td>459.0</td>\n",
       "      <td>2.0</td>\n",
       "      <td>9000.0</td>\n",
       "      <td>16.0</td>\n",
       "      <td>5.0</td>\n",
       "      <td>33.0</td>\n",
       "      <td>fashion_shoes</td>\n",
       "      <td>5.0</td>\n",
       "      <td>2016-10-03</td>\n",
       "    </tr>\n",
       "  </tbody>\n",
       "</table>\n",
       "</div>"
      ],
      "text/plain": [
       "                                order_id                       customer_id  \\\n",
       "108467  3b697a20d9e427646d92567910af6d57  355077684019f7f60a031656bd7262b8   \n",
       "33111   be5bc2f0da14d8071e2d45451ad119d9  7ec40b22510fdbea1b08921dd39e63d8   \n",
       "113950  a41c8759fbe7aab36ea07e038b2d4465  6f989332712d3222b6571b1cf5b835ce   \n",
       "102777  d207cc272675637bfed0062edffd0818  b8cf418e97ae795672d326288dfab7a7   \n",
       "7784    cd3b8574c82b42fc8129f6d502690c3e  7812fcebfc5e8065d31e1bb5f0017dae   \n",
       "\n",
       "       order_status order_purchase_timestamp    order_approved_at  \\\n",
       "108467    delivered      2016-10-03 09:44:50  2016-10-06 15:50:54   \n",
       "33111     delivered      2016-10-03 16:56:50  2016-10-06 16:03:44   \n",
       "113950    delivered      2016-10-03 21:13:36  2016-10-05 03:11:49   \n",
       "102777    delivered      2016-10-03 22:06:03  2016-10-04 10:28:07   \n",
       "7784      delivered      2016-10-03 22:31:31  2016-10-04 10:19:23   \n",
       "\n",
       "       order_delivered_carrier_date order_delivered_customer_date  \\\n",
       "108467          2016-10-23 14:02:13           2016-10-26 14:02:13   \n",
       "33111           2016-10-21 16:33:46           2016-10-27 18:19:38   \n",
       "113950          2016-10-25 11:57:59           2016-11-03 10:58:07   \n",
       "102777          2016-10-21 14:23:37           2016-10-31 11:07:42   \n",
       "7784            2016-10-08 10:34:01           2016-10-14 16:08:00   \n",
       "\n",
       "       order_estimated_delivery_date                customer_unique_id  \\\n",
       "108467                    2016-10-27  32ea3bdedab835c3aa6cb68ce66565ef   \n",
       "33111                     2016-11-07  2f64e403852e6893ae37485d5fcacdaf   \n",
       "113950                    2016-11-29  61db744d2f835035a5625b59350c6b63   \n",
       "102777                    2016-11-23  8d3a54507421dbd2ce0a1d58046826e0   \n",
       "7784                      2016-11-23  87776adb449c551e74c13fc34f036105   \n",
       "\n",
       "        customer_zip_code_prefix customer_city customer_state  \\\n",
       "108467                      4106     sao paulo             SP   \n",
       "33111                      98280       panambi             RS   \n",
       "113950                     90040  porto alegre             RS   \n",
       "102777                     13185   hortolandia             SP   \n",
       "7784                       12030       taubate             SP   \n",
       "\n",
       "        payment_sequential payment_type  payment_installments  payment_value  \\\n",
       "108467                 1.0       boleto                   1.0          45.46   \n",
       "33111                  1.0       boleto                   1.0          39.09   \n",
       "113950                 1.0       boleto                   1.0          53.73   \n",
       "102777                 1.0  credit_card                   6.0         133.46   \n",
       "7784                   1.0  credit_card                   4.0          40.95   \n",
       "\n",
       "        order_item_id                        product_id  \\\n",
       "108467              1  3ae08df6bcbfe23586dd431c40bddbb7   \n",
       "33111               1  fd7fd78fd3cbc1b0a6370a7909c0a629   \n",
       "113950              1  b72b39418216e944bb34e35f4d3ea8c7   \n",
       "102777              1  107177bf61755f05c604fe57e02467d6   \n",
       "7784                1  e2a1d45a73dc7f5a7f9236b043431b89   \n",
       "\n",
       "                               seller_id  shipping_limit_date   price  \\\n",
       "108467  522620dcb18a6b31cd7bdf73665113a9  2016-10-21 16:27:20   29.90   \n",
       "33111   f09b760d23495ac9a7e00d29b769007c  2016-10-21 16:33:46   21.90   \n",
       "113950  45d33f715e24d15a6ccf5c17b3a23e3c  2016-10-21 16:18:26   36.49   \n",
       "102777  cca3071e3e9bb7d12640c9fbe2301306  2016-10-21 16:23:06  119.90   \n",
       "7784    b499c00f28f4b7069ff6550af8c1348a  2016-10-08 10:34:01   29.99   \n",
       "\n",
       "        freight_value product_category_name  product_name_lenght  \\\n",
       "108467          15.56    relogios_presentes                 63.0   \n",
       "33111           17.19         esporte_lazer                 39.0   \n",
       "113950          17.24         esporte_lazer                 39.0   \n",
       "102777          13.56      moveis_decoracao                 55.0   \n",
       "7784            10.96      fashion_calcados                 56.0   \n",
       "\n",
       "        product_description_lenght  product_photos_qty  product_weight_g  \\\n",
       "108467                      1642.0                 3.0             300.0   \n",
       "33111                        518.0                 1.0             400.0   \n",
       "113950                       141.0                 1.0             767.0   \n",
       "102777                       130.0                 1.0            2050.0   \n",
       "7784                         459.0                 2.0            9000.0   \n",
       "\n",
       "        product_length_cm  product_height_cm  product_width_cm  \\\n",
       "108467               16.0               16.0              16.0   \n",
       "33111                16.0               16.0              16.0   \n",
       "113950               26.0                8.0              20.0   \n",
       "102777               40.0               11.0              34.0   \n",
       "7784                 16.0                5.0              33.0   \n",
       "\n",
       "       product_category_name_english  review_score order_purchase_date  \n",
       "108467                 watches_gifts           4.0          2016-10-03  \n",
       "33111                 sports_leisure           4.0          2016-10-03  \n",
       "113950                sports_leisure           3.0          2016-10-03  \n",
       "102777               furniture_decor           1.0          2016-10-03  \n",
       "7784                   fashion_shoes           5.0          2016-10-03  "
      ]
     },
     "execution_count": 13,
     "metadata": {},
     "output_type": "execute_result"
    }
   ],
   "source": [
    "df_mcommande_ordered.head()"
   ]
  },
  {
   "cell_type": "code",
   "execution_count": 14,
   "id": "49591b47-4fe1-4318-bfae-6ab45a67431c",
   "metadata": {},
   "outputs": [
    {
     "name": "stdout",
     "output_type": "stream",
     "text": [
      "La période complète des commandes porte sur 22 mois.\n"
     ]
    }
   ],
   "source": [
    "time_delta = int((df_mcommande_ordered['order_purchase_timestamp'].max() - df_mcommande_ordered['order_purchase_timestamp'].min())/np.timedelta64(1,'M'))\n",
    "print(\"La période complète des commandes porte sur {} mois.\".format(time_delta))"
   ]
  },
  {
   "cell_type": "code",
   "execution_count": 15,
   "id": "cbda60cc-37bb-414e-936e-e629cdd7c438",
   "metadata": {},
   "outputs": [],
   "source": [
    "rfm = pd.read_csv('data_P5_RFM.csv')"
   ]
  },
  {
   "cell_type": "markdown",
   "id": "ed6cc48d-0d64-4221-9743-719678fd9e40",
   "metadata": {},
   "source": [
    "## Automatisation procédure calcul RFM"
   ]
  },
  {
   "cell_type": "code",
   "execution_count": 16,
   "id": "fa1ff59d-fd31-44ad-b28b-806a489559c6",
   "metadata": {},
   "outputs": [],
   "source": [
    "def get_recency(df):\n",
    "    # récupération de la date de la dernière commande pour identifiant unique de clients\n",
    "    df_recency = df.groupby(['customer_unique_id'])['order_purchase_timestamp'].max().reset_index()\n",
    "\n",
    "    df_recency.rename(columns = {\"order_purchase_timestamp\": \"LastPurchaseDate\"}, inplace = True)\n",
    "\n",
    "    df_recency[\"LastPurchaseDate\"] = df_recency[\"LastPurchaseDate\"].dt.date\n",
    "\n",
    "    #Utilisation de la dernière commande de l'ensemble des données comme point de référence pour calculer la récence :\n",
    "    recent_date = df['order_purchase_timestamp'].dt.date.max()\n",
    "    df_recency['Recency'] = df_recency['LastPurchaseDate'].apply(lambda x: (recent_date - x).days)\n",
    "\n",
    "    return df_recency"
   ]
  },
  {
   "cell_type": "code",
   "execution_count": 17,
   "id": "104a9790-0cc6-4060-8d13-eef51f7ed868",
   "metadata": {},
   "outputs": [],
   "source": [
    "def get_frequency(df):\n",
    "    #Regroupement des données par identifiant unique de client pour calculer le nombre d'identifiants de commande uniques pour chaque client.\n",
    "    frequency_df = df.groupby([\"customer_unique_id\"]).agg({\"order_id\": \"nunique\"}).reset_index()\n",
    "\n",
    "    frequency_df.rename(columns = {\"order_id\": \"Frequency\"}, inplace = True)\n",
    "\n",
    "    return frequency_df\n"
   ]
  },
  {
   "cell_type": "code",
   "execution_count": 18,
   "id": "e17ff15c-748b-4cd8-b5b4-064fccd2798d",
   "metadata": {},
   "outputs": [],
   "source": [
    "def get_monetary(df):\n",
    "    #somme des montants par identifiant client unique\n",
    "    monetary_df = df.groupby(['customer_unique_id'])['payment_value'].sum().reset_index()\n",
    "\n",
    "    monetary_df.rename(columns = {\"payment_value\": \"Monetary\"}, inplace = True)\n",
    "\n",
    "    return monetary_df"
   ]
  },
  {
   "cell_type": "code",
   "execution_count": 19,
   "id": "1f5ceb07-e45c-45dd-a69b-f71cf0ba9086",
   "metadata": {},
   "outputs": [],
   "source": [
    "scaler = MinMaxScaler().set_output(transform=\"pandas\")\n",
    "\n",
    "def generate_rfm_features(df):\n",
    "    df_recency = get_recency(df)\n",
    "    df_frequency = get_frequency(df)\n",
    "    df_monetary = get_monetary(df)\n",
    "    rfm = df_recency.merge(df_frequency, on = 'customer_unique_id') \\\n",
    "                .merge(df_monetary, on = 'customer_unique_id')\n",
    "\n",
    "    rfm.drop('LastPurchaseDate', axis = 1, inplace = True)\n",
    "    \n",
    "    return rfm"
   ]
  },
  {
   "cell_type": "markdown",
   "id": "3db1673e-3832-459c-a9e8-ebf87c20977e",
   "metadata": {},
   "source": [
    "## Solution 1 : Création des fonctions d'entraînement du modèle mini-batch Kmeans"
   ]
  },
  {
   "cell_type": "markdown",
   "id": "827f2261-5bf5-48d7-b36c-b3f0acf63a25",
   "metadata": {},
   "source": [
    "MiniBatchKMeans est une variante de l'algorithme K-means qui fonctionne en utilisant des mini-batchs d'échantillons plutôt que l'ensemble complet de données pour effectuer les mises à jour des centres de clusters. Cela permet de réduire le temps de calcul nécessaire pour converger vers une solution.\n",
    "\n",
    "Voici comment fonctionne l'algorithme MiniBatchKMeans de sklearn :\n",
    "\n",
    "1. Sélectionner un nombre de centres de cluster (k) et initialiser les centres de manière aléatoire.\n",
    "\n",
    "2. Diviser l'ensemble de données en mini-batchs de taille fixe. Le nombre de mini-batchs est généralement beaucoup plus grand que le nombre de centres de cluster.\n",
    "\n",
    "3. Pour chaque mini-batch :\n",
    "\n",
    "a. Assigner chaque point du mini-batch au centre de cluster le plus proche en utilisant la distance euclidienne.\n",
    "\n",
    "b. Mettre à jour les centres de cluster en utilisant la moyenne des points assignés à chaque centre.\n",
    "\n",
    "Répéter les étapes 2 et 3 jusqu'à convergence ou jusqu'à atteindre un nombre maximum d'itérations.\n",
    "\n",
    "Retourner les centres de cluster finaux.\n",
    "\n",
    "L'algorithme MiniBatchKMeans peut être plus rapide que l'algorithme K-means standard, mais il peut également être moins précis car les mises à jour des centres de cluster ne sont pas effectuées sur l'ensemble complet des données. Cependant, en pratique, MiniBatchKMeans donne souvent des résultats très similaires à K-means tout en étant beaucoup plus rapide, ce qui en fait un choix populaire pour les ensembles de données de grande taille."
   ]
  },
  {
   "cell_type": "code",
   "execution_count": 17,
   "id": "ba064e3b-9ab3-441e-895f-240b7dc9e362",
   "metadata": {},
   "outputs": [],
   "source": [
    "n_centers = 3"
   ]
  },
  {
   "cell_type": "code",
   "execution_count": 260,
   "id": "543c5e07-5ee6-4075-9e70-90200f5cb7f8",
   "metadata": {},
   "outputs": [],
   "source": [
    "def create_model(n_centers=3):\n",
    "    kmeans = MiniBatchKMeans(n_clusters=n_centers, n_init=\"auto\", reassignment_ratio=0.05)\n",
    "    return kmeans"
   ]
  },
  {
   "cell_type": "code",
   "execution_count": 261,
   "id": "5999557a-284c-4148-9b3e-1c68be5ab5b7",
   "metadata": {},
   "outputs": [],
   "source": [
    "def retrain_model(df_rfm, model, init=False):\n",
    "    cols = ['Recency', 'Frequency', 'Monetary']\n",
    "    df_rfm_scale = scaler.fit_transform(df_rfm[cols])\n",
    "    if init:\n",
    "        model.fit(df_rfm_scale[cols])\n",
    "    else:\n",
    "        model.partial_fit(df_rfm_scale[cols])\n",
    "    return model"
   ]
  },
  {
   "cell_type": "code",
   "execution_count": 262,
   "id": "3f25e332-a286-4008-b8c1-083c4d5d3287",
   "metadata": {},
   "outputs": [],
   "source": [
    "def predict_model(df_rfm, model):\n",
    "    cols = ['Recency', 'Frequency', 'Monetary']\n",
    "    df_rfm_scale = scaler.fit_transform(df_rfm[cols])\n",
    "    return model.predict(df_rfm_scale[cols])"
   ]
  },
  {
   "cell_type": "markdown",
   "id": "60d615cd-a204-43d4-bdb7-b175711d4d49",
   "metadata": {},
   "source": [
    "## Lancement de la simulation "
   ]
  },
  {
   "cell_type": "code",
   "execution_count": 263,
   "id": "b7a7837f-e198-41c9-bac0-4e21b4aa3728",
   "metadata": {},
   "outputs": [],
   "source": [
    "order_purchase_date = df_mcommande_ordered['order_purchase_date'].sort_values().unique()"
   ]
  },
  {
   "cell_type": "code",
   "execution_count": 264,
   "id": "fb24ac1e-c349-4cb5-bffc-f076d011a526",
   "metadata": {},
   "outputs": [],
   "source": [
    "init_step = 10\n",
    "order_purchase_date_step = order_purchase_date[init_step]\n",
    "df_rfm = generate_rfm_features(df_mcommande_ordered[df_mcommande_ordered['order_purchase_date'] <= order_purchase_date_step])"
   ]
  },
  {
   "cell_type": "code",
   "execution_count": 265,
   "id": "a4e4a8c2-b96a-4898-89eb-cb251ee763f0",
   "metadata": {},
   "outputs": [
    {
     "data": {
      "text/plain": [
       "'2017-01-06'"
      ]
     },
     "execution_count": 265,
     "metadata": {},
     "output_type": "execute_result"
    }
   ],
   "source": [
    "order_purchase_date_step"
   ]
  },
  {
   "cell_type": "code",
   "execution_count": 266,
   "id": "1c074f41-a1f2-4bb3-9d96-0557063dbd86",
   "metadata": {},
   "outputs": [
    {
     "data": {
      "text/plain": [
       "(284, 4)"
      ]
     },
     "execution_count": 266,
     "metadata": {},
     "output_type": "execute_result"
    }
   ],
   "source": [
    "df_rfm.shape"
   ]
  },
  {
   "cell_type": "code",
   "execution_count": 267,
   "id": "0ce69b20-1429-4ed3-882a-de2cd0ec9117",
   "metadata": {},
   "outputs": [
    {
     "data": {
      "text/html": [
       "<div>\n",
       "<style scoped>\n",
       "    .dataframe tbody tr th:only-of-type {\n",
       "        vertical-align: middle;\n",
       "    }\n",
       "\n",
       "    .dataframe tbody tr th {\n",
       "        vertical-align: top;\n",
       "    }\n",
       "\n",
       "    .dataframe thead th {\n",
       "        text-align: right;\n",
       "    }\n",
       "</style>\n",
       "<table border=\"1\" class=\"dataframe\">\n",
       "  <thead>\n",
       "    <tr style=\"text-align: right;\">\n",
       "      <th></th>\n",
       "      <th>customer_unique_id</th>\n",
       "      <th>Recency</th>\n",
       "      <th>Frequency</th>\n",
       "      <th>Monetary</th>\n",
       "    </tr>\n",
       "  </thead>\n",
       "  <tbody>\n",
       "    <tr>\n",
       "      <th>0</th>\n",
       "      <td>0032c76b20340da25249092a268ce66c</td>\n",
       "      <td>92</td>\n",
       "      <td>1</td>\n",
       "      <td>144.94</td>\n",
       "    </tr>\n",
       "    <tr>\n",
       "      <th>1</th>\n",
       "      <td>01f156677184504063bd19739f924af1</td>\n",
       "      <td>88</td>\n",
       "      <td>1</td>\n",
       "      <td>784.80</td>\n",
       "    </tr>\n",
       "    <tr>\n",
       "      <th>2</th>\n",
       "      <td>0636d30c77f0f9cfad81f1c9b58c791f</td>\n",
       "      <td>90</td>\n",
       "      <td>1</td>\n",
       "      <td>971.96</td>\n",
       "    </tr>\n",
       "    <tr>\n",
       "      <th>3</th>\n",
       "      <td>06bdfbbe1857c3c925ec81abfb1c9666</td>\n",
       "      <td>94</td>\n",
       "      <td>1</td>\n",
       "      <td>196.27</td>\n",
       "    </tr>\n",
       "    <tr>\n",
       "      <th>4</th>\n",
       "      <td>0829f7df6577d5a4b65439bea701405f</td>\n",
       "      <td>94</td>\n",
       "      <td>1</td>\n",
       "      <td>267.49</td>\n",
       "    </tr>\n",
       "  </tbody>\n",
       "</table>\n",
       "</div>"
      ],
      "text/plain": [
       "                 customer_unique_id  Recency  Frequency  Monetary\n",
       "0  0032c76b20340da25249092a268ce66c       92          1    144.94\n",
       "1  01f156677184504063bd19739f924af1       88          1    784.80\n",
       "2  0636d30c77f0f9cfad81f1c9b58c791f       90          1    971.96\n",
       "3  06bdfbbe1857c3c925ec81abfb1c9666       94          1    196.27\n",
       "4  0829f7df6577d5a4b65439bea701405f       94          1    267.49"
      ]
     },
     "execution_count": 267,
     "metadata": {},
     "output_type": "execute_result"
    }
   ],
   "source": [
    "df_rfm.head()"
   ]
  },
  {
   "cell_type": "code",
   "execution_count": 268,
   "id": "e99b6a04-ff38-4b02-942c-d32c4ee1f917",
   "metadata": {},
   "outputs": [],
   "source": [
    "clf = create_model(n_centers=n_centers)"
   ]
  },
  {
   "cell_type": "code",
   "execution_count": 269,
   "id": "9300d8e4-d125-4e08-99b6-84e669e00c28",
   "metadata": {},
   "outputs": [],
   "source": [
    "clf = retrain_model(df_rfm, clf, init=True)"
   ]
  },
  {
   "cell_type": "code",
   "execution_count": 270,
   "id": "9a21fb87-892c-40af-b64c-8ed41f6c4e7c",
   "metadata": {},
   "outputs": [
    {
     "data": {
      "text/plain": [
       "284"
      ]
     },
     "execution_count": 270,
     "metadata": {},
     "output_type": "execute_result"
    }
   ],
   "source": [
    "len(clf.labels_)"
   ]
  },
  {
   "cell_type": "code",
   "execution_count": 271,
   "id": "fac396ee-db85-4744-9ccb-2ce6dee87af9",
   "metadata": {},
   "outputs": [],
   "source": [
    "df_rfm['cluster_label'] = predict_model(df_rfm, clf)"
   ]
  },
  {
   "cell_type": "code",
   "execution_count": 272,
   "id": "3728d6cd-1cf5-4ae1-846b-e19242ef7ce6",
   "metadata": {},
   "outputs": [
    {
     "data": {
      "text/html": [
       "<div>\n",
       "<style scoped>\n",
       "    .dataframe tbody tr th:only-of-type {\n",
       "        vertical-align: middle;\n",
       "    }\n",
       "\n",
       "    .dataframe tbody tr th {\n",
       "        vertical-align: top;\n",
       "    }\n",
       "\n",
       "    .dataframe thead th {\n",
       "        text-align: right;\n",
       "    }\n",
       "</style>\n",
       "<table border=\"1\" class=\"dataframe\">\n",
       "  <thead>\n",
       "    <tr style=\"text-align: right;\">\n",
       "      <th></th>\n",
       "      <th>0</th>\n",
       "      <th>1</th>\n",
       "      <th>2</th>\n",
       "    </tr>\n",
       "  </thead>\n",
       "  <tbody>\n",
       "    <tr>\n",
       "      <th>cluster_label</th>\n",
       "      <td>41</td>\n",
       "      <td>22</td>\n",
       "      <td>221</td>\n",
       "    </tr>\n",
       "  </tbody>\n",
       "</table>\n",
       "</div>"
      ],
      "text/plain": [
       "                0   1    2\n",
       "cluster_label  41  22  221"
      ]
     },
     "execution_count": 272,
     "metadata": {},
     "output_type": "execute_result"
    }
   ],
   "source": [
    "pd.DataFrame(df_rfm['cluster_label'].value_counts().sort_index()).T"
   ]
  },
  {
   "cell_type": "code",
   "execution_count": 273,
   "id": "573d010b-1635-414c-bfc3-f772d2c4333b",
   "metadata": {},
   "outputs": [
    {
     "data": {
      "text/html": [
       "<div>\n",
       "<style scoped>\n",
       "    .dataframe tbody tr th:only-of-type {\n",
       "        vertical-align: middle;\n",
       "    }\n",
       "\n",
       "    .dataframe tbody tr th {\n",
       "        vertical-align: top;\n",
       "    }\n",
       "\n",
       "    .dataframe thead th {\n",
       "        text-align: right;\n",
       "    }\n",
       "</style>\n",
       "<table border=\"1\" class=\"dataframe\">\n",
       "  <thead>\n",
       "    <tr style=\"text-align: right;\">\n",
       "      <th></th>\n",
       "      <th>customer_unique_id</th>\n",
       "      <th>Recency</th>\n",
       "      <th>Frequency</th>\n",
       "      <th>Monetary</th>\n",
       "      <th>cluster_label</th>\n",
       "    </tr>\n",
       "  </thead>\n",
       "  <tbody>\n",
       "    <tr>\n",
       "      <th>0</th>\n",
       "      <td>0032c76b20340da25249092a268ce66c</td>\n",
       "      <td>92</td>\n",
       "      <td>1</td>\n",
       "      <td>144.94</td>\n",
       "      <td>2</td>\n",
       "    </tr>\n",
       "    <tr>\n",
       "      <th>1</th>\n",
       "      <td>01f156677184504063bd19739f924af1</td>\n",
       "      <td>88</td>\n",
       "      <td>1</td>\n",
       "      <td>784.80</td>\n",
       "      <td>0</td>\n",
       "    </tr>\n",
       "    <tr>\n",
       "      <th>2</th>\n",
       "      <td>0636d30c77f0f9cfad81f1c9b58c791f</td>\n",
       "      <td>90</td>\n",
       "      <td>1</td>\n",
       "      <td>971.96</td>\n",
       "      <td>0</td>\n",
       "    </tr>\n",
       "  </tbody>\n",
       "</table>\n",
       "</div>"
      ],
      "text/plain": [
       "                 customer_unique_id  Recency  Frequency  Monetary  \\\n",
       "0  0032c76b20340da25249092a268ce66c       92          1    144.94   \n",
       "1  01f156677184504063bd19739f924af1       88          1    784.80   \n",
       "2  0636d30c77f0f9cfad81f1c9b58c791f       90          1    971.96   \n",
       "\n",
       "   cluster_label  \n",
       "0              2  \n",
       "1              0  \n",
       "2              0  "
      ]
     },
     "execution_count": 273,
     "metadata": {},
     "output_type": "execute_result"
    }
   ],
   "source": [
    "df_rfm.head(3)"
   ]
  },
  {
   "cell_type": "code",
   "execution_count": 274,
   "id": "bbf91cb6-3768-4662-8865-b1ef971c4163",
   "metadata": {},
   "outputs": [
    {
     "data": {
      "text/plain": [
       "array([[0.9611825 , 0.01155844, 0.15153797],\n",
       "       [0.00863973, 0.12260692, 0.01418184],\n",
       "       [0.96359701, 0.        , 0.02369934]])"
      ]
     },
     "execution_count": 274,
     "metadata": {},
     "output_type": "execute_result"
    }
   ],
   "source": [
    "clf.cluster_centers_"
   ]
  },
  {
   "cell_type": "code",
   "execution_count": 275,
   "id": "cdfd96b7-5971-4201-ad4a-291cd39e3b36",
   "metadata": {},
   "outputs": [
    {
     "name": "stdout",
     "output_type": "stream",
     "text": [
      "2017-01-26\n",
      "Len df_rfm: 284\n",
      "2017-02-15\n",
      "Len df_rfm: 756\n",
      "2017-03-07\n",
      "Len df_rfm: 1996\n",
      "2017-03-27\n",
      "Len df_rfm: 3143\n",
      "2017-04-16\n",
      "Len df_rfm: 4818\n",
      "2017-05-06\n",
      "Len df_rfm: 6221\n",
      "2017-05-26\n",
      "Len df_rfm: 8039\n",
      "2017-06-15\n",
      "Len df_rfm: 10350\n",
      "2017-07-05\n",
      "Len df_rfm: 12573\n",
      "2017-07-25\n",
      "Len df_rfm: 14506\n",
      "2017-08-14\n",
      "Len df_rfm: 17054\n",
      "2017-09-03\n",
      "Len df_rfm: 19618\n",
      "2017-09-23\n",
      "Len df_rfm: 22266\n",
      "2017-10-13\n",
      "Len df_rfm: 25079\n",
      "2017-11-02\n",
      "Len df_rfm: 27853\n",
      "2017-11-22\n",
      "Len df_rfm: 30628\n",
      "2017-12-12\n",
      "Len df_rfm: 34023\n",
      "2018-01-01\n",
      "Len df_rfm: 40405\n",
      "2018-01-21\n",
      "Len df_rfm: 43115\n",
      "2018-02-10\n",
      "Len df_rfm: 47775\n",
      "2018-03-02\n",
      "Len df_rfm: 52179\n",
      "2018-03-22\n",
      "Len df_rfm: 56948\n",
      "2018-04-11\n",
      "Len df_rfm: 61571\n",
      "2018-05-01\n",
      "Len df_rfm: 65791\n",
      "2018-05-21\n",
      "Len df_rfm: 70344\n",
      "2018-06-10\n",
      "Len df_rfm: 75505\n",
      "2018-06-30\n",
      "Len df_rfm: 78723\n",
      "2018-07-20\n",
      "Len df_rfm: 82867\n",
      "2018-08-09\n",
      "Len df_rfm: 86395\n",
      "2018-08-29\n",
      "Len df_rfm: 91671\n"
     ]
    }
   ],
   "source": [
    "df_cluster_size_list = [pd.DataFrame(df_rfm['cluster_label'].value_counts().sort_index()).T]\n",
    "centers_coords = [clf.cluster_centers_]\n",
    "date_steps = [order_purchase_date_step]\n",
    "step = 20\n",
    "inertia_list = [clf.inertia_]\n",
    "\n",
    "for ind in range(init_step + step, len(order_purchase_date), step):\n",
    "    order_purchase_date_step = order_purchase_date[ind]\n",
    "    print(order_purchase_date_step)\n",
    "    date_steps.append(order_purchase_date_step)\n",
    "    df_rfm_temp = generate_rfm_features(df_mcommande_ordered[(df_mcommande_ordered['order_purchase_date'] <= order_purchase_date_step) & \n",
    "                                                       (df_mcommande_ordered['order_purchase_date'] > order_purchase_date[ind-step])])\n",
    "    print(f'Len df_rfm: {len(df_rfm)}')\n",
    "    clf = retrain_model(df_rfm_temp, clf, init=False)\n",
    "    df_rfm_temp['cluster_label'] = predict_model(df_rfm_temp, clf)\n",
    "    df_rfm = pd.concat([df_rfm, df_rfm_temp])\n",
    "    \n",
    "    inertia_list.append(clf.inertia_)\n",
    "   \n",
    "    \n",
    "    df_cluster_size_list.append(pd.DataFrame(df_rfm['cluster_label'].value_counts().sort_index()).T)\n",
    "    centers_coords.append(clf.cluster_centers_.copy())"
   ]
  },
  {
   "cell_type": "code",
   "execution_count": 276,
   "id": "4928b1bf-6873-4c45-9618-7222f4109ad4",
   "metadata": {},
   "outputs": [],
   "source": [
    "df_cluster_size = pd.concat(df_cluster_size_list).reset_index(drop=True)"
   ]
  },
  {
   "cell_type": "code",
   "execution_count": 277,
   "id": "22519653-c84a-47a5-ba3f-850ade0664cb",
   "metadata": {},
   "outputs": [
    {
     "data": {
      "text/html": [
       "<div>\n",
       "<style scoped>\n",
       "    .dataframe tbody tr th:only-of-type {\n",
       "        vertical-align: middle;\n",
       "    }\n",
       "\n",
       "    .dataframe tbody tr th {\n",
       "        vertical-align: top;\n",
       "    }\n",
       "\n",
       "    .dataframe thead th {\n",
       "        text-align: right;\n",
       "    }\n",
       "</style>\n",
       "<table border=\"1\" class=\"dataframe\">\n",
       "  <thead>\n",
       "    <tr style=\"text-align: right;\">\n",
       "      <th></th>\n",
       "      <th>0</th>\n",
       "      <th>1</th>\n",
       "      <th>2</th>\n",
       "    </tr>\n",
       "  </thead>\n",
       "  <tbody>\n",
       "    <tr>\n",
       "      <th>0</th>\n",
       "      <td>41</td>\n",
       "      <td>22</td>\n",
       "      <td>221</td>\n",
       "    </tr>\n",
       "    <tr>\n",
       "      <th>1</th>\n",
       "      <td>66</td>\n",
       "      <td>398</td>\n",
       "      <td>292</td>\n",
       "    </tr>\n",
       "    <tr>\n",
       "      <th>2</th>\n",
       "      <td>81</td>\n",
       "      <td>1170</td>\n",
       "      <td>745</td>\n",
       "    </tr>\n",
       "    <tr>\n",
       "      <th>3</th>\n",
       "      <td>112</td>\n",
       "      <td>1873</td>\n",
       "      <td>1158</td>\n",
       "    </tr>\n",
       "    <tr>\n",
       "      <th>4</th>\n",
       "      <td>165</td>\n",
       "      <td>2782</td>\n",
       "      <td>1871</td>\n",
       "    </tr>\n",
       "  </tbody>\n",
       "</table>\n",
       "</div>"
      ],
      "text/plain": [
       "     0     1     2\n",
       "0   41    22   221\n",
       "1   66   398   292\n",
       "2   81  1170   745\n",
       "3  112  1873  1158\n",
       "4  165  2782  1871"
      ]
     },
     "execution_count": 277,
     "metadata": {},
     "output_type": "execute_result"
    }
   ],
   "source": [
    "df_cluster_size.head()"
   ]
  },
  {
   "cell_type": "code",
   "execution_count": 278,
   "id": "31f87d6f-4f0e-43f9-bed5-1861d3a63b06",
   "metadata": {},
   "outputs": [
    {
     "data": {
      "image/png": "[encoded data removed]",
      "text/plain": [
       "<Figure size 640x480 with 1 Axes>"
      ]
     },
     "metadata": {},
     "output_type": "display_data"
    }
   ],
   "source": [
    "plt.plot(date_steps, df_cluster_size)\n",
    "plt.xlabel('order purchase date step')\n",
    "plt.ylabel('cluster size')\n",
    "plt.xticks(rotation=90)\n",
    "plt.title('Cluster size distribution by date step')\n",
    "plt.show()"
   ]
  },
  {
   "cell_type": "code",
   "execution_count": null,
   "id": "7bb2f759-14b5-4668-8cdc-9041e81aee9b",
   "metadata": {},
   "outputs": [],
   "source": [
    "# saut dans la taille des clusters au 12/12/2017"
   ]
  },
  {
   "cell_type": "code",
   "execution_count": 279,
   "id": "00c0d94f-8500-4de1-a8eb-eb60deaf095d",
   "metadata": {},
   "outputs": [],
   "source": [
    "diff_centers_dict = dict()\n",
    "for i in range(0, n_centers):\n",
    "    diff_centers_dict[i] = []\n",
    "\n",
    "for i in range(0,len(centers_coords) - 1):\n",
    "    centers = centers_coords[i]\n",
    "    next_centers = centers_coords[i+1]\n",
    "    for j in range(0, n_centers):\n",
    "        dist = np.linalg.norm(centers[j] - next_centers[j])\n",
    "        diff_centers_dict[j].append(dist)"
   ]
  },
  {
   "cell_type": "code",
   "execution_count": 280,
   "id": "7f31bc48-c328-4deb-abe6-1bbc14557b6c",
   "metadata": {},
   "outputs": [],
   "source": [
    "df_diff_centers = pd.DataFrame(diff_centers_dict)"
   ]
  },
  {
   "cell_type": "code",
   "execution_count": 281,
   "id": "3fb8b733-7d59-4830-b2ea-f8a417a01069",
   "metadata": {},
   "outputs": [
    {
     "data": {
      "text/html": [
       "<div>\n",
       "<style scoped>\n",
       "    .dataframe tbody tr th:only-of-type {\n",
       "        vertical-align: middle;\n",
       "    }\n",
       "\n",
       "    .dataframe tbody tr th {\n",
       "        vertical-align: top;\n",
       "    }\n",
       "\n",
       "    .dataframe thead th {\n",
       "        text-align: right;\n",
       "    }\n",
       "</style>\n",
       "<table border=\"1\" class=\"dataframe\">\n",
       "  <thead>\n",
       "    <tr style=\"text-align: right;\">\n",
       "      <th></th>\n",
       "      <th>0</th>\n",
       "      <th>1</th>\n",
       "      <th>2</th>\n",
       "    </tr>\n",
       "  </thead>\n",
       "  <tbody>\n",
       "    <tr>\n",
       "      <th>0</th>\n",
       "      <td>0.109334</td>\n",
       "      <td>0.183918</td>\n",
       "      <td>0.192497</td>\n",
       "    </tr>\n",
       "    <tr>\n",
       "      <th>1</th>\n",
       "      <td>0.002321</td>\n",
       "      <td>0.082907</td>\n",
       "      <td>0.024297</td>\n",
       "    </tr>\n",
       "    <tr>\n",
       "      <th>2</th>\n",
       "      <td>0.004853</td>\n",
       "      <td>0.022252</td>\n",
       "      <td>0.012372</td>\n",
       "    </tr>\n",
       "    <tr>\n",
       "      <th>3</th>\n",
       "      <td>0.007425</td>\n",
       "      <td>0.021505</td>\n",
       "      <td>0.018287</td>\n",
       "    </tr>\n",
       "    <tr>\n",
       "      <th>4</th>\n",
       "      <td>0.001999</td>\n",
       "      <td>0.017534</td>\n",
       "      <td>0.012012</td>\n",
       "    </tr>\n",
       "  </tbody>\n",
       "</table>\n",
       "</div>"
      ],
      "text/plain": [
       "          0         1         2\n",
       "0  0.109334  0.183918  0.192497\n",
       "1  0.002321  0.082907  0.024297\n",
       "2  0.004853  0.022252  0.012372\n",
       "3  0.007425  0.021505  0.018287\n",
       "4  0.001999  0.017534  0.012012"
      ]
     },
     "execution_count": 281,
     "metadata": {},
     "output_type": "execute_result"
    }
   ],
   "source": [
    "df_diff_centers.head()"
   ]
  },
  {
   "cell_type": "code",
   "execution_count": 282,
   "id": "e1f4dfde-ee6e-4dea-a464-f4742e851bd5",
   "metadata": {},
   "outputs": [
    {
     "data": {
      "image/png": "[encoded data removed]",
      "text/plain": [
       "<Figure size 640x480 with 1 Axes>"
      ]
     },
     "metadata": {},
     "output_type": "display_data"
    }
   ],
   "source": [
    "plt.plot(date_steps[1:], df_diff_centers)\n",
    "plt.xlabel('Order purchase date step')\n",
    "plt.ylabel('Distance')\n",
    "plt.title('Difference between cluster center positions by date step')\n",
    "plt.xticks(rotation=90)\n",
    "plt.show()"
   ]
  },
  {
   "cell_type": "code",
   "execution_count": null,
   "id": "fe4b56e9-b5b9-4443-bd26-63786a60cb1e",
   "metadata": {},
   "outputs": [],
   "source": [
    "# on constate une forte différence dans le centre des clusters le 12/12/2017"
   ]
  },
  {
   "cell_type": "markdown",
   "id": "95c98f00-c337-4638-bcf0-4f9d3277dd3d",
   "metadata": {},
   "source": [
    "L'indice de stabilité temporelle (TSS) est une mesure qui permet d'évaluer la stabilité des clusters dans le temps, c'est-à-dire leur capacité à conserver la même structure au fil du temps. Pour calculer l'indice TSS, on calcule la somme des distances euclidiennes entre les centres des clusters à deux moments différents. Plus l'indice TSS est élevé, plus les clusters sont stables dans le temps.\n",
    "\n"
   ]
  },
  {
   "cell_type": "code",
   "execution_count": 283,
   "id": "1076451f-c129-4e33-b995-d3b8d59cce0c",
   "metadata": {},
   "outputs": [
    {
     "data": {
      "image/png": "[encoded data removed]",
      "text/plain": [
       "<Figure size 640x480 with 1 Axes>"
      ]
     },
     "metadata": {},
     "output_type": "display_data"
    }
   ],
   "source": [
    "plt.plot(date_steps, inertia_list)\n",
    "plt.xlabel('Order purchase date step')\n",
    "plt.ylabel('Clusters Sum of Squares Distance')\n",
    "plt.title('Inertia by date step')\n",
    "plt.xticks(rotation=90)\n",
    "plt.show()"
   ]
  },
  {
   "cell_type": "code",
   "execution_count": null,
   "id": "2465af42-ecd4-4428-8347-4381b9db322c",
   "metadata": {},
   "outputs": [],
   "source": [
    "# L'inertie est croissante jusqu'à atteindre un pic le 12/12/2017 avant de chuter fortement début janvier. "
   ]
  },
  {
   "cell_type": "markdown",
   "id": "1704eeb2-ee75-47d6-9406-dab26cff2b07",
   "metadata": {},
   "source": [
    "## Solution 2 : Etude de l'évolution du score de l'ARI"
   ]
  },
  {
   "cell_type": "markdown",
   "id": "8b340f1e-d9e1-440b-9a89-e38a6d52892b",
   "metadata": {},
   "source": [
    "Rand index adjusted for chance.\n",
    "\n",
    "The Rand Index computes a similarity measure between two clusterings by considering all pairs of samples and counting pairs that are assigned in the same or different clusters in the predicted and true clusterings."
   ]
  },
  {
   "cell_type": "code",
   "execution_count": 155,
   "id": "80094be7-221b-4141-8bc0-60dde4b18b14",
   "metadata": {},
   "outputs": [
    {
     "data": {
      "text/plain": [
       "Timestamp('2016-10-03 09:44:50')"
      ]
     },
     "execution_count": 155,
     "metadata": {},
     "output_type": "execute_result"
    }
   ],
   "source": [
    "df_mcommande_ordered['order_purchase_timestamp'].min()"
   ]
  },
  {
   "cell_type": "code",
   "execution_count": 156,
   "id": "44211395-d614-4235-b7df-99dfc02598e1",
   "metadata": {},
   "outputs": [
    {
     "data": {
      "text/plain": [
       "Timestamp('2018-08-29 15:00:37')"
      ]
     },
     "execution_count": 156,
     "metadata": {},
     "output_type": "execute_result"
    }
   ],
   "source": [
    "df_mcommande_ordered['order_purchase_timestamp'].max()"
   ]
  },
  {
   "cell_type": "code",
   "execution_count": 157,
   "id": "06c89251-f1b2-4f35-a6d6-8bb022bab006",
   "metadata": {},
   "outputs": [],
   "source": [
    "# Période initiale de 12 mois\n",
    "data_init = df_mcommande_ordered[df_mcommande_ordered['order_purchase_date'].between(\"2016-10-03\", \"2017-10-03\")]"
   ]
  },
  {
   "cell_type": "code",
   "execution_count": 158,
   "id": "72bd0bb1-24cb-46b4-8536-d5a1f513165c",
   "metadata": {},
   "outputs": [
    {
     "data": {
      "text/html": [
       "<div>\n",
       "<style scoped>\n",
       "    .dataframe tbody tr th:only-of-type {\n",
       "        vertical-align: middle;\n",
       "    }\n",
       "\n",
       "    .dataframe tbody tr th {\n",
       "        vertical-align: top;\n",
       "    }\n",
       "\n",
       "    .dataframe thead th {\n",
       "        text-align: right;\n",
       "    }\n",
       "</style>\n",
       "<table border=\"1\" class=\"dataframe\">\n",
       "  <thead>\n",
       "    <tr style=\"text-align: right;\">\n",
       "      <th></th>\n",
       "      <th>order_id</th>\n",
       "      <th>customer_id</th>\n",
       "      <th>order_status</th>\n",
       "      <th>order_purchase_timestamp</th>\n",
       "      <th>order_approved_at</th>\n",
       "      <th>order_delivered_carrier_date</th>\n",
       "      <th>order_delivered_customer_date</th>\n",
       "      <th>order_estimated_delivery_date</th>\n",
       "      <th>customer_unique_id</th>\n",
       "      <th>customer_zip_code_prefix</th>\n",
       "      <th>customer_city</th>\n",
       "      <th>customer_state</th>\n",
       "      <th>payment_sequential</th>\n",
       "      <th>payment_type</th>\n",
       "      <th>payment_installments</th>\n",
       "      <th>payment_value</th>\n",
       "      <th>order_item_id</th>\n",
       "      <th>product_id</th>\n",
       "      <th>seller_id</th>\n",
       "      <th>shipping_limit_date</th>\n",
       "      <th>price</th>\n",
       "      <th>freight_value</th>\n",
       "      <th>product_category_name</th>\n",
       "      <th>product_name_lenght</th>\n",
       "      <th>product_description_lenght</th>\n",
       "      <th>product_photos_qty</th>\n",
       "      <th>product_weight_g</th>\n",
       "      <th>product_length_cm</th>\n",
       "      <th>product_height_cm</th>\n",
       "      <th>product_width_cm</th>\n",
       "      <th>product_category_name_english</th>\n",
       "      <th>review_score</th>\n",
       "      <th>order_purchase_date</th>\n",
       "    </tr>\n",
       "  </thead>\n",
       "  <tbody>\n",
       "    <tr>\n",
       "      <th>5063</th>\n",
       "      <td>2f62dbff060e1fc79791d3f079b62769</td>\n",
       "      <td>aa9c4bc7cf8c8f30bb449b7511860ba8</td>\n",
       "      <td>delivered</td>\n",
       "      <td>2017-10-03 23:44:39</td>\n",
       "      <td>2017-10-04 00:04:10</td>\n",
       "      <td>2017-10-04 20:52:27</td>\n",
       "      <td>2017-10-10 21:47:46</td>\n",
       "      <td>2017-10-30</td>\n",
       "      <td>84394f56850c9f22ebf0013c1476cfb0</td>\n",
       "      <td>12327</td>\n",
       "      <td>jacarei</td>\n",
       "      <td>SP</td>\n",
       "      <td>1.0</td>\n",
       "      <td>debit_card</td>\n",
       "      <td>1.0</td>\n",
       "      <td>98.22</td>\n",
       "      <td>1</td>\n",
       "      <td>aede48631330269f65a8d680de491657</td>\n",
       "      <td>dbc22125167c298ef99da25668e1011f</td>\n",
       "      <td>2017-10-10 00:04:10</td>\n",
       "      <td>83.90</td>\n",
       "      <td>14.32</td>\n",
       "      <td>malas_acessorios</td>\n",
       "      <td>45.0</td>\n",
       "      <td>573.0</td>\n",
       "      <td>1.0</td>\n",
       "      <td>1400.0</td>\n",
       "      <td>48.0</td>\n",
       "      <td>10.0</td>\n",
       "      <td>33.0</td>\n",
       "      <td>luggage_accessories</td>\n",
       "      <td>5.0</td>\n",
       "      <td>2017-10-03</td>\n",
       "    </tr>\n",
       "    <tr>\n",
       "      <th>86236</th>\n",
       "      <td>058b47cafcb62845676917a46cf732e4</td>\n",
       "      <td>f0adbcc906e94774e167ee43ce2209f2</td>\n",
       "      <td>delivered</td>\n",
       "      <td>2017-10-03 23:52:07</td>\n",
       "      <td>2017-10-04 22:28:23</td>\n",
       "      <td>2017-10-06 19:53:18</td>\n",
       "      <td>2017-10-16 16:08:07</td>\n",
       "      <td>2017-11-01</td>\n",
       "      <td>b5b46581465f851df3529a30d2503f59</td>\n",
       "      <td>28470</td>\n",
       "      <td>santo antonio de padua</td>\n",
       "      <td>RJ</td>\n",
       "      <td>1.0</td>\n",
       "      <td>credit_card</td>\n",
       "      <td>5.0</td>\n",
       "      <td>84.20</td>\n",
       "      <td>1</td>\n",
       "      <td>b791d5d05f0c974d148d358efcd21d84</td>\n",
       "      <td>7aa4334be125fcdd2ba64b3180029f14</td>\n",
       "      <td>2017-10-10 22:28:23</td>\n",
       "      <td>25.99</td>\n",
       "      <td>16.11</td>\n",
       "      <td>cama_mesa_banho</td>\n",
       "      <td>59.0</td>\n",
       "      <td>1092.0</td>\n",
       "      <td>1.0</td>\n",
       "      <td>500.0</td>\n",
       "      <td>16.0</td>\n",
       "      <td>20.0</td>\n",
       "      <td>16.0</td>\n",
       "      <td>bed_bath_table</td>\n",
       "      <td>5.0</td>\n",
       "      <td>2017-10-03</td>\n",
       "    </tr>\n",
       "    <tr>\n",
       "      <th>86237</th>\n",
       "      <td>058b47cafcb62845676917a46cf732e4</td>\n",
       "      <td>f0adbcc906e94774e167ee43ce2209f2</td>\n",
       "      <td>delivered</td>\n",
       "      <td>2017-10-03 23:52:07</td>\n",
       "      <td>2017-10-04 22:28:23</td>\n",
       "      <td>2017-10-06 19:53:18</td>\n",
       "      <td>2017-10-16 16:08:07</td>\n",
       "      <td>2017-11-01</td>\n",
       "      <td>b5b46581465f851df3529a30d2503f59</td>\n",
       "      <td>28470</td>\n",
       "      <td>santo antonio de padua</td>\n",
       "      <td>RJ</td>\n",
       "      <td>1.0</td>\n",
       "      <td>credit_card</td>\n",
       "      <td>5.0</td>\n",
       "      <td>84.20</td>\n",
       "      <td>2</td>\n",
       "      <td>b791d5d05f0c974d148d358efcd21d84</td>\n",
       "      <td>7aa4334be125fcdd2ba64b3180029f14</td>\n",
       "      <td>2017-10-10 22:28:23</td>\n",
       "      <td>25.99</td>\n",
       "      <td>16.11</td>\n",
       "      <td>cama_mesa_banho</td>\n",
       "      <td>59.0</td>\n",
       "      <td>1092.0</td>\n",
       "      <td>1.0</td>\n",
       "      <td>500.0</td>\n",
       "      <td>16.0</td>\n",
       "      <td>20.0</td>\n",
       "      <td>16.0</td>\n",
       "      <td>bed_bath_table</td>\n",
       "      <td>5.0</td>\n",
       "      <td>2017-10-03</td>\n",
       "    </tr>\n",
       "    <tr>\n",
       "      <th>88508</th>\n",
       "      <td>9cffb1e19a2d93d7959976c5d5c11138</td>\n",
       "      <td>cd361dc0e1c92d4c4697f9af769dabfb</td>\n",
       "      <td>delivered</td>\n",
       "      <td>2017-10-03 23:54:26</td>\n",
       "      <td>2017-10-04 00:07:20</td>\n",
       "      <td>2017-10-09 18:33:27</td>\n",
       "      <td>2017-10-19 22:27:25</td>\n",
       "      <td>2017-10-27</td>\n",
       "      <td>ceae573284b9faf72e72688668cb193b</td>\n",
       "      <td>25954</td>\n",
       "      <td>teresopolis</td>\n",
       "      <td>RJ</td>\n",
       "      <td>1.0</td>\n",
       "      <td>credit_card</td>\n",
       "      <td>8.0</td>\n",
       "      <td>223.32</td>\n",
       "      <td>1</td>\n",
       "      <td>47ca911aa7f3febfc2478f63fc1aed07</td>\n",
       "      <td>dc4a0fc896dc34b0d5bfec8438291c80</td>\n",
       "      <td>2017-10-10 00:07:20</td>\n",
       "      <td>195.63</td>\n",
       "      <td>27.69</td>\n",
       "      <td>cama_mesa_banho</td>\n",
       "      <td>58.0</td>\n",
       "      <td>466.0</td>\n",
       "      <td>1.0</td>\n",
       "      <td>4200.0</td>\n",
       "      <td>60.0</td>\n",
       "      <td>25.0</td>\n",
       "      <td>40.0</td>\n",
       "      <td>bed_bath_table</td>\n",
       "      <td>5.0</td>\n",
       "      <td>2017-10-03</td>\n",
       "    </tr>\n",
       "    <tr>\n",
       "      <th>17864</th>\n",
       "      <td>aac83029cedfde867c3b10c7762d84cd</td>\n",
       "      <td>e0914eefae8c413678da6e1c5fbb1ca2</td>\n",
       "      <td>delivered</td>\n",
       "      <td>2017-10-03 23:55:15</td>\n",
       "      <td>2017-10-04 00:07:19</td>\n",
       "      <td>2017-10-05 15:58:13</td>\n",
       "      <td>2017-10-13 16:39:50</td>\n",
       "      <td>2017-10-31</td>\n",
       "      <td>76dd0c4744aacba27bc9e82984f9da5b</td>\n",
       "      <td>13174</td>\n",
       "      <td>sumare</td>\n",
       "      <td>SP</td>\n",
       "      <td>1.0</td>\n",
       "      <td>credit_card</td>\n",
       "      <td>2.0</td>\n",
       "      <td>133.05</td>\n",
       "      <td>1</td>\n",
       "      <td>8c591ab0ca519558779df02023177f44</td>\n",
       "      <td>a1043bafd471dff536d0c462352beb48</td>\n",
       "      <td>2017-10-10 00:07:19</td>\n",
       "      <td>99.00</td>\n",
       "      <td>34.05</td>\n",
       "      <td>ferramentas_jardim</td>\n",
       "      <td>47.0</td>\n",
       "      <td>1893.0</td>\n",
       "      <td>1.0</td>\n",
       "      <td>6050.0</td>\n",
       "      <td>20.0</td>\n",
       "      <td>20.0</td>\n",
       "      <td>20.0</td>\n",
       "      <td>garden_tools</td>\n",
       "      <td>5.0</td>\n",
       "      <td>2017-10-03</td>\n",
       "    </tr>\n",
       "  </tbody>\n",
       "</table>\n",
       "</div>"
      ],
      "text/plain": [
       "                               order_id                       customer_id  \\\n",
       "5063   2f62dbff060e1fc79791d3f079b62769  aa9c4bc7cf8c8f30bb449b7511860ba8   \n",
       "86236  058b47cafcb62845676917a46cf732e4  f0adbcc906e94774e167ee43ce2209f2   \n",
       "86237  058b47cafcb62845676917a46cf732e4  f0adbcc906e94774e167ee43ce2209f2   \n",
       "88508  9cffb1e19a2d93d7959976c5d5c11138  cd361dc0e1c92d4c4697f9af769dabfb   \n",
       "17864  aac83029cedfde867c3b10c7762d84cd  e0914eefae8c413678da6e1c5fbb1ca2   \n",
       "\n",
       "      order_status order_purchase_timestamp    order_approved_at  \\\n",
       "5063     delivered      2017-10-03 23:44:39  2017-10-04 00:04:10   \n",
       "86236    delivered      2017-10-03 23:52:07  2017-10-04 22:28:23   \n",
       "86237    delivered      2017-10-03 23:52:07  2017-10-04 22:28:23   \n",
       "88508    delivered      2017-10-03 23:54:26  2017-10-04 00:07:20   \n",
       "17864    delivered      2017-10-03 23:55:15  2017-10-04 00:07:19   \n",
       "\n",
       "      order_delivered_carrier_date order_delivered_customer_date  \\\n",
       "5063           2017-10-04 20:52:27           2017-10-10 21:47:46   \n",
       "86236          2017-10-06 19:53:18           2017-10-16 16:08:07   \n",
       "86237          2017-10-06 19:53:18           2017-10-16 16:08:07   \n",
       "88508          2017-10-09 18:33:27           2017-10-19 22:27:25   \n",
       "17864          2017-10-05 15:58:13           2017-10-13 16:39:50   \n",
       "\n",
       "      order_estimated_delivery_date                customer_unique_id  \\\n",
       "5063                     2017-10-30  84394f56850c9f22ebf0013c1476cfb0   \n",
       "86236                    2017-11-01  b5b46581465f851df3529a30d2503f59   \n",
       "86237                    2017-11-01  b5b46581465f851df3529a30d2503f59   \n",
       "88508                    2017-10-27  ceae573284b9faf72e72688668cb193b   \n",
       "17864                    2017-10-31  76dd0c4744aacba27bc9e82984f9da5b   \n",
       "\n",
       "       customer_zip_code_prefix           customer_city customer_state  \\\n",
       "5063                      12327                 jacarei             SP   \n",
       "86236                     28470  santo antonio de padua             RJ   \n",
       "86237                     28470  santo antonio de padua             RJ   \n",
       "88508                     25954             teresopolis             RJ   \n",
       "17864                     13174                  sumare             SP   \n",
       "\n",
       "       payment_sequential payment_type  payment_installments  payment_value  \\\n",
       "5063                  1.0   debit_card                   1.0          98.22   \n",
       "86236                 1.0  credit_card                   5.0          84.20   \n",
       "86237                 1.0  credit_card                   5.0          84.20   \n",
       "88508                 1.0  credit_card                   8.0         223.32   \n",
       "17864                 1.0  credit_card                   2.0         133.05   \n",
       "\n",
       "       order_item_id                        product_id  \\\n",
       "5063               1  aede48631330269f65a8d680de491657   \n",
       "86236              1  b791d5d05f0c974d148d358efcd21d84   \n",
       "86237              2  b791d5d05f0c974d148d358efcd21d84   \n",
       "88508              1  47ca911aa7f3febfc2478f63fc1aed07   \n",
       "17864              1  8c591ab0ca519558779df02023177f44   \n",
       "\n",
       "                              seller_id  shipping_limit_date   price  \\\n",
       "5063   dbc22125167c298ef99da25668e1011f  2017-10-10 00:04:10   83.90   \n",
       "86236  7aa4334be125fcdd2ba64b3180029f14  2017-10-10 22:28:23   25.99   \n",
       "86237  7aa4334be125fcdd2ba64b3180029f14  2017-10-10 22:28:23   25.99   \n",
       "88508  dc4a0fc896dc34b0d5bfec8438291c80  2017-10-10 00:07:20  195.63   \n",
       "17864  a1043bafd471dff536d0c462352beb48  2017-10-10 00:07:19   99.00   \n",
       "\n",
       "       freight_value product_category_name  product_name_lenght  \\\n",
       "5063           14.32      malas_acessorios                 45.0   \n",
       "86236          16.11       cama_mesa_banho                 59.0   \n",
       "86237          16.11       cama_mesa_banho                 59.0   \n",
       "88508          27.69       cama_mesa_banho                 58.0   \n",
       "17864          34.05    ferramentas_jardim                 47.0   \n",
       "\n",
       "       product_description_lenght  product_photos_qty  product_weight_g  \\\n",
       "5063                        573.0                 1.0            1400.0   \n",
       "86236                      1092.0                 1.0             500.0   \n",
       "86237                      1092.0                 1.0             500.0   \n",
       "88508                       466.0                 1.0            4200.0   \n",
       "17864                      1893.0                 1.0            6050.0   \n",
       "\n",
       "       product_length_cm  product_height_cm  product_width_cm  \\\n",
       "5063                48.0               10.0              33.0   \n",
       "86236               16.0               20.0              16.0   \n",
       "86237               16.0               20.0              16.0   \n",
       "88508               60.0               25.0              40.0   \n",
       "17864               20.0               20.0              20.0   \n",
       "\n",
       "      product_category_name_english  review_score order_purchase_date  \n",
       "5063            luggage_accessories           5.0          2017-10-03  \n",
       "86236                bed_bath_table           5.0          2017-10-03  \n",
       "86237                bed_bath_table           5.0          2017-10-03  \n",
       "88508                bed_bath_table           5.0          2017-10-03  \n",
       "17864                  garden_tools           5.0          2017-10-03  "
      ]
     },
     "execution_count": 158,
     "metadata": {},
     "output_type": "execute_result"
    }
   ],
   "source": [
    "data_init.tail()"
   ]
  },
  {
   "cell_type": "code",
   "execution_count": 159,
   "id": "b6565589-6493-4544-95a4-f7a1286c5da6",
   "metadata": {},
   "outputs": [
    {
     "data": {
      "text/plain": [
       "(32604, 33)"
      ]
     },
     "execution_count": 159,
     "metadata": {},
     "output_type": "execute_result"
    }
   ],
   "source": [
    "data_init.shape"
   ]
  },
  {
   "cell_type": "code",
   "execution_count": 160,
   "id": "cbefb45f-7c3b-493f-a0cd-14fdbfb1f775",
   "metadata": {},
   "outputs": [
    {
     "name": "stdout",
     "output_type": "stream",
     "text": [
      "2017-10-04 00:00:00\n"
     ]
    }
   ],
   "source": [
    "# première initialisation\n",
    "t0 = datetime.datetime(2017, 10, 4, 0, 0, 0)\n",
    "print(t0)"
   ]
  },
  {
   "cell_type": "code",
   "execution_count": 161,
   "id": "9702e470-2886-4f13-8ee4-08cab95c2702",
   "metadata": {},
   "outputs": [],
   "source": [
    "# Liste des périodes de mesures \n",
    "def time_range(freq):\n",
    "    return pd.date_range(t0, df_mcommande_ordered['order_purchase_date'].max(), freq=freq)"
   ]
  },
  {
   "cell_type": "code",
   "execution_count": 162,
   "id": "dcc099fd-15f1-4631-bb05-388e4aca62f6",
   "metadata": {},
   "outputs": [],
   "source": [
    "# fonction entraînement du modèle\n",
    "def train_model(df_rfm, model, scaler):\n",
    "    cols = ['Recency', 'Frequency', 'Monetary']\n",
    "    df_rfm_scale = scaler.transform(df_rfm[cols])\n",
    "    model.fit(df_rfm_scale[cols])\n",
    "    return model"
   ]
  },
  {
   "cell_type": "code",
   "execution_count": 163,
   "id": "10f249f9-b8d3-414c-8c03-787b6ea46eb3",
   "metadata": {},
   "outputs": [],
   "source": [
    "def predict_model(df_rfm, model, scaler):\n",
    "    cols = ['Recency', 'Frequency', 'Monetary']\n",
    "    df_rfm_scale = scaler.transform(df_rfm[cols])\n",
    "    return model.predict(df_rfm_scale[cols])"
   ]
  },
  {
   "cell_type": "code",
   "execution_count": 164,
   "id": "3799bc6a-9675-43e7-914b-4f8a24786595",
   "metadata": {},
   "outputs": [
    {
     "name": "stdout",
     "output_type": "stream",
     "text": [
      "[Timestamp('2017-10-31 00:00:00', freq='M'), Timestamp('2017-11-30 00:00:00', freq='M'), Timestamp('2017-12-31 00:00:00', freq='M'), Timestamp('2018-01-31 00:00:00', freq='M'), Timestamp('2018-02-28 00:00:00', freq='M'), Timestamp('2018-03-31 00:00:00', freq='M'), Timestamp('2018-04-30 00:00:00', freq='M'), Timestamp('2018-05-31 00:00:00', freq='M'), Timestamp('2018-06-30 00:00:00', freq='M'), Timestamp('2018-07-31 00:00:00', freq='M')]\n",
      "10\n"
     ]
    }
   ],
   "source": [
    "range1 = list(time_range('M'))\n",
    "print(range1)\n",
    "print(len(range1))"
   ]
  },
  {
   "cell_type": "code",
   "execution_count": 165,
   "id": "cd6b0a70-ddde-4363-b7ed-20ab4e903179",
   "metadata": {},
   "outputs": [
    {
     "data": {
      "text/plain": [
       "Timestamp('2017-10-31 00:00:00', freq='M')"
      ]
     },
     "execution_count": 165,
     "metadata": {},
     "output_type": "execute_result"
    }
   ],
   "source": [
    "range1[0]"
   ]
  },
  {
   "cell_type": "code",
   "execution_count": 166,
   "id": "1b12843c-60b6-4bdd-895a-04d71810e90b",
   "metadata": {},
   "outputs": [
    {
     "data": {
      "text/plain": [
       "32604"
      ]
     },
     "execution_count": 166,
     "metadata": {},
     "output_type": "execute_result"
    }
   ],
   "source": [
    "len(df_mcommande_ordered[pd.to_datetime(df_mcommande_ordered['order_purchase_date']) < t0])"
   ]
  },
  {
   "cell_type": "code",
   "execution_count": 167,
   "id": "9d768f9c-8c4a-49a2-897e-91f16ba2ae7b",
   "metadata": {},
   "outputs": [],
   "source": [
    "kmeans = KMeans(n_clusters = 3, n_init=\"auto\")"
   ]
  },
  {
   "cell_type": "code",
   "execution_count": 168,
   "id": "8d66c483-bce3-40f4-99b6-157a4eef7863",
   "metadata": {},
   "outputs": [],
   "source": [
    "df_rfm_init = generate_rfm_features(data_init)"
   ]
  },
  {
   "cell_type": "code",
   "execution_count": 169,
   "id": "2e51af96-4b08-4f95-9560-5c98c2015495",
   "metadata": {},
   "outputs": [
    {
     "data": {
      "text/plain": [
       "(26105, 4)"
      ]
     },
     "execution_count": 169,
     "metadata": {},
     "output_type": "execute_result"
    }
   ],
   "source": [
    "df_rfm_init.shape"
   ]
  },
  {
   "cell_type": "code",
   "execution_count": 170,
   "id": "6372c997-5ee8-45aa-9d4d-060f1cf22ed4",
   "metadata": {},
   "outputs": [
    {
     "data": {
      "text/html": [
       "<div>\n",
       "<style scoped>\n",
       "    .dataframe tbody tr th:only-of-type {\n",
       "        vertical-align: middle;\n",
       "    }\n",
       "\n",
       "    .dataframe tbody tr th {\n",
       "        vertical-align: top;\n",
       "    }\n",
       "\n",
       "    .dataframe thead th {\n",
       "        text-align: right;\n",
       "    }\n",
       "</style>\n",
       "<table border=\"1\" class=\"dataframe\">\n",
       "  <thead>\n",
       "    <tr style=\"text-align: right;\">\n",
       "      <th></th>\n",
       "      <th>customer_unique_id</th>\n",
       "      <th>Recency</th>\n",
       "      <th>Frequency</th>\n",
       "      <th>Monetary</th>\n",
       "    </tr>\n",
       "  </thead>\n",
       "  <tbody>\n",
       "    <tr>\n",
       "      <th>0</th>\n",
       "      <td>0000f46a3911fa3c0805444483337064</td>\n",
       "      <td>207</td>\n",
       "      <td>1</td>\n",
       "      <td>86.22</td>\n",
       "    </tr>\n",
       "    <tr>\n",
       "      <th>1</th>\n",
       "      <td>0005e1862207bf6ccc02e4228effd9a0</td>\n",
       "      <td>213</td>\n",
       "      <td>1</td>\n",
       "      <td>150.12</td>\n",
       "    </tr>\n",
       "    <tr>\n",
       "      <th>2</th>\n",
       "      <td>0006fdc98a402fceb4eb0ee528f6a8d4</td>\n",
       "      <td>77</td>\n",
       "      <td>1</td>\n",
       "      <td>29.00</td>\n",
       "    </tr>\n",
       "    <tr>\n",
       "      <th>3</th>\n",
       "      <td>000a5ad9c4601d2bbdd9ed765d5213b3</td>\n",
       "      <td>53</td>\n",
       "      <td>1</td>\n",
       "      <td>91.28</td>\n",
       "    </tr>\n",
       "    <tr>\n",
       "      <th>4</th>\n",
       "      <td>000bfa1d2f1a41876493be685390d6d3</td>\n",
       "      <td>4</td>\n",
       "      <td>1</td>\n",
       "      <td>93.70</td>\n",
       "    </tr>\n",
       "  </tbody>\n",
       "</table>\n",
       "</div>"
      ],
      "text/plain": [
       "                 customer_unique_id  Recency  Frequency  Monetary\n",
       "0  0000f46a3911fa3c0805444483337064      207          1     86.22\n",
       "1  0005e1862207bf6ccc02e4228effd9a0      213          1    150.12\n",
       "2  0006fdc98a402fceb4eb0ee528f6a8d4       77          1     29.00\n",
       "3  000a5ad9c4601d2bbdd9ed765d5213b3       53          1     91.28\n",
       "4  000bfa1d2f1a41876493be685390d6d3        4          1     93.70"
      ]
     },
     "execution_count": 170,
     "metadata": {},
     "output_type": "execute_result"
    }
   ],
   "source": [
    "df_rfm_init.head()"
   ]
  },
  {
   "cell_type": "code",
   "execution_count": 171,
   "id": "288ad7ca-5dd3-4afc-8812-44afc764a98d",
   "metadata": {},
   "outputs": [],
   "source": [
    "scaler = MinMaxScaler().set_output(transform=\"pandas\")"
   ]
  },
  {
   "cell_type": "code",
   "execution_count": 172,
   "id": "21af37ba-bc5f-427e-89af-bfaf3f961bb2",
   "metadata": {},
   "outputs": [
    {
     "data": {
      "text/html": [
       "<style>#sk-container-id-7 {color: black;background-color: white;}#sk-container-id-7 pre{padding: 0;}#sk-container-id-7 div.sk-toggleable {background-color: white;}#sk-container-id-7 label.sk-toggleable__label {cursor: pointer;display: block;width: 100%;margin-bottom: 0;padding: 0.3em;box-sizing: border-box;text-align: center;}#sk-container-id-7 label.sk-toggleable__label-arrow:before {content: \"▸\";float: left;margin-right: 0.25em;color: #696969;}#sk-container-id-7 label.sk-toggleable__label-arrow:hover:before {color: black;}#sk-container-id-7 div.sk-estimator:hover label.sk-toggleable__label-arrow:before {color: black;}#sk-container-id-7 div.sk-toggleable__content {max-height: 0;max-width: 0;overflow: hidden;text-align: left;background-color: #f0f8ff;}#sk-container-id-7 div.sk-toggleable__content pre {margin: 0.2em;color: black;border-radius: 0.25em;background-color: #f0f8ff;}#sk-container-id-7 input.sk-toggleable__control:checked~div.sk-toggleable__content {max-height: 200px;max-width: 100%;overflow: auto;}#sk-container-id-7 input.sk-toggleable__control:checked~label.sk-toggleable__label-arrow:before {content: \"▾\";}#sk-container-id-7 div.sk-estimator input.sk-toggleable__control:checked~label.sk-toggleable__label {background-color: #d4ebff;}#sk-container-id-7 div.sk-label input.sk-toggleable__control:checked~label.sk-toggleable__label {background-color: #d4ebff;}#sk-container-id-7 input.sk-hidden--visually {border: 0;clip: rect(1px 1px 1px 1px);clip: rect(1px, 1px, 1px, 1px);height: 1px;margin: -1px;overflow: hidden;padding: 0;position: absolute;width: 1px;}#sk-container-id-7 div.sk-estimator {font-family: monospace;background-color: #f0f8ff;border: 1px dotted black;border-radius: 0.25em;box-sizing: border-box;margin-bottom: 0.5em;}#sk-container-id-7 div.sk-estimator:hover {background-color: #d4ebff;}#sk-container-id-7 div.sk-parallel-item::after {content: \"\";width: 100%;border-bottom: 1px solid gray;flex-grow: 1;}#sk-container-id-7 div.sk-label:hover label.sk-toggleable__label {background-color: #d4ebff;}#sk-container-id-7 div.sk-serial::before {content: \"\";position: absolute;border-left: 1px solid gray;box-sizing: border-box;top: 0;bottom: 0;left: 50%;z-index: 0;}#sk-container-id-7 div.sk-serial {display: flex;flex-direction: column;align-items: center;background-color: white;padding-right: 0.2em;padding-left: 0.2em;position: relative;}#sk-container-id-7 div.sk-item {position: relative;z-index: 1;}#sk-container-id-7 div.sk-parallel {display: flex;align-items: stretch;justify-content: center;background-color: white;position: relative;}#sk-container-id-7 div.sk-item::before, #sk-container-id-7 div.sk-parallel-item::before {content: \"\";position: absolute;border-left: 1px solid gray;box-sizing: border-box;top: 0;bottom: 0;left: 50%;z-index: -1;}#sk-container-id-7 div.sk-parallel-item {display: flex;flex-direction: column;z-index: 1;position: relative;background-color: white;}#sk-container-id-7 div.sk-parallel-item:first-child::after {align-self: flex-end;width: 50%;}#sk-container-id-7 div.sk-parallel-item:last-child::after {align-self: flex-start;width: 50%;}#sk-container-id-7 div.sk-parallel-item:only-child::after {width: 0;}#sk-container-id-7 div.sk-dashed-wrapped {border: 1px dashed gray;margin: 0 0.4em 0.5em 0.4em;box-sizing: border-box;padding-bottom: 0.4em;background-color: white;}#sk-container-id-7 div.sk-label label {font-family: monospace;font-weight: bold;display: inline-block;line-height: 1.2em;}#sk-container-id-7 div.sk-label-container {text-align: center;}#sk-container-id-7 div.sk-container {/* jupyter's `normalize.less` sets `[hidden] { display: none; }` but bootstrap.min.css set `[hidden] { display: none !important; }` so we also need the `!important` here to be able to override the default hidden behavior on the sphinx rendered scikit-learn.org. See: https://github.com/scikit-learn/scikit-learn/issues/21755 */display: inline-block !important;position: relative;}#sk-container-id-7 div.sk-text-repr-fallback {display: none;}</style><div id=\"sk-container-id-7\" class=\"sk-top-container\"><div class=\"sk-text-repr-fallback\"><pre>MinMaxScaler()</pre><b>In a Jupyter environment, please rerun this cell to show the HTML representation or trust the notebook. <br />On GitHub, the HTML representation is unable to render, please try loading this page with nbviewer.org.</b></div><div class=\"sk-container\" hidden><div class=\"sk-item\"><div class=\"sk-estimator sk-toggleable\"><input class=\"sk-toggleable__control sk-hidden--visually\" id=\"sk-estimator-id-7\" type=\"checkbox\" checked><label for=\"sk-estimator-id-7\" class=\"sk-toggleable__label sk-toggleable__label-arrow\">MinMaxScaler</label><div class=\"sk-toggleable__content\"><pre>MinMaxScaler()</pre></div></div></div></div></div>"
      ],
      "text/plain": [
       "MinMaxScaler()"
      ]
     },
     "execution_count": 172,
     "metadata": {},
     "output_type": "execute_result"
    }
   ],
   "source": [
    "cols = ['Recency', 'Frequency', 'Monetary']\n",
    "scaler.fit(df_rfm_init[cols])"
   ]
  },
  {
   "cell_type": "code",
   "execution_count": 173,
   "id": "38747e32-6799-403e-9617-d9b8f8621824",
   "metadata": {},
   "outputs": [],
   "source": [
    "mk0 = train_model(df_rfm_init, kmeans, scaler)"
   ]
  },
  {
   "cell_type": "code",
   "execution_count": 174,
   "id": "372f08b2-90a6-4569-85ab-be6815e4fa60",
   "metadata": {},
   "outputs": [],
   "source": [
    "models = [mk0]"
   ]
  },
  {
   "cell_type": "code",
   "execution_count": 175,
   "id": "b6d3107f-b109-49c7-843b-eb9ad0bc7b81",
   "metadata": {},
   "outputs": [
    {
     "data": {
      "text/plain": [
       "26105"
      ]
     },
     "execution_count": 175,
     "metadata": {},
     "output_type": "execute_result"
    }
   ],
   "source": [
    "len(mk0.labels_)"
   ]
  },
  {
   "cell_type": "code",
   "execution_count": 176,
   "id": "e8d7fcb5-59d0-40dc-b2f5-c4f125cb2b6f",
   "metadata": {},
   "outputs": [],
   "source": [
    "df_rfm_init['C0_mk0'] = predict_model(df_rfm_init, mk0, scaler)"
   ]
  },
  {
   "cell_type": "code",
   "execution_count": 177,
   "id": "8fb61237-fa08-493e-9b24-832d04745da2",
   "metadata": {},
   "outputs": [
    {
     "data": {
      "text/html": [
       "<div>\n",
       "<style scoped>\n",
       "    .dataframe tbody tr th:only-of-type {\n",
       "        vertical-align: middle;\n",
       "    }\n",
       "\n",
       "    .dataframe tbody tr th {\n",
       "        vertical-align: top;\n",
       "    }\n",
       "\n",
       "    .dataframe thead th {\n",
       "        text-align: right;\n",
       "    }\n",
       "</style>\n",
       "<table border=\"1\" class=\"dataframe\">\n",
       "  <thead>\n",
       "    <tr style=\"text-align: right;\">\n",
       "      <th></th>\n",
       "      <th>customer_unique_id</th>\n",
       "      <th>Recency</th>\n",
       "      <th>Frequency</th>\n",
       "      <th>Monetary</th>\n",
       "      <th>C0_mk0</th>\n",
       "    </tr>\n",
       "  </thead>\n",
       "  <tbody>\n",
       "    <tr>\n",
       "      <th>0</th>\n",
       "      <td>0000f46a3911fa3c0805444483337064</td>\n",
       "      <td>207</td>\n",
       "      <td>1</td>\n",
       "      <td>86.22</td>\n",
       "      <td>1</td>\n",
       "    </tr>\n",
       "    <tr>\n",
       "      <th>1</th>\n",
       "      <td>0005e1862207bf6ccc02e4228effd9a0</td>\n",
       "      <td>213</td>\n",
       "      <td>1</td>\n",
       "      <td>150.12</td>\n",
       "      <td>1</td>\n",
       "    </tr>\n",
       "    <tr>\n",
       "      <th>2</th>\n",
       "      <td>0006fdc98a402fceb4eb0ee528f6a8d4</td>\n",
       "      <td>77</td>\n",
       "      <td>1</td>\n",
       "      <td>29.00</td>\n",
       "      <td>0</td>\n",
       "    </tr>\n",
       "    <tr>\n",
       "      <th>3</th>\n",
       "      <td>000a5ad9c4601d2bbdd9ed765d5213b3</td>\n",
       "      <td>53</td>\n",
       "      <td>1</td>\n",
       "      <td>91.28</td>\n",
       "      <td>0</td>\n",
       "    </tr>\n",
       "    <tr>\n",
       "      <th>4</th>\n",
       "      <td>000bfa1d2f1a41876493be685390d6d3</td>\n",
       "      <td>4</td>\n",
       "      <td>1</td>\n",
       "      <td>93.70</td>\n",
       "      <td>0</td>\n",
       "    </tr>\n",
       "  </tbody>\n",
       "</table>\n",
       "</div>"
      ],
      "text/plain": [
       "                 customer_unique_id  Recency  Frequency  Monetary  C0_mk0\n",
       "0  0000f46a3911fa3c0805444483337064      207          1     86.22       1\n",
       "1  0005e1862207bf6ccc02e4228effd9a0      213          1    150.12       1\n",
       "2  0006fdc98a402fceb4eb0ee528f6a8d4       77          1     29.00       0\n",
       "3  000a5ad9c4601d2bbdd9ed765d5213b3       53          1     91.28       0\n",
       "4  000bfa1d2f1a41876493be685390d6d3        4          1     93.70       0"
      ]
     },
     "execution_count": 177,
     "metadata": {},
     "output_type": "execute_result"
    }
   ],
   "source": [
    "df_rfm_init.head()"
   ]
  },
  {
   "cell_type": "code",
   "execution_count": 178,
   "id": "0f3507ab-9120-4cfa-9a07-2937095b1884",
   "metadata": {},
   "outputs": [],
   "source": [
    "data_T1 = df_mcommande_ordered[pd.to_datetime(df_mcommande_ordered['order_purchase_date']) < range1[0]]"
   ]
  },
  {
   "cell_type": "code",
   "execution_count": 179,
   "id": "032991c2-821f-47fc-ae23-952ade12679f",
   "metadata": {},
   "outputs": [
    {
     "data": {
      "text/plain": [
       "(37356, 33)"
      ]
     },
     "execution_count": 179,
     "metadata": {},
     "output_type": "execute_result"
    }
   ],
   "source": [
    "data_T1.shape"
   ]
  },
  {
   "cell_type": "code",
   "execution_count": 180,
   "id": "5248d451-1ce0-42d1-8120-ce508e134d14",
   "metadata": {},
   "outputs": [],
   "source": [
    "df_rfm_T1 = generate_rfm_features(data_T1)"
   ]
  },
  {
   "cell_type": "code",
   "execution_count": 181,
   "id": "f8a20903-3b6f-44ab-95ca-a089f8adf4d5",
   "metadata": {},
   "outputs": [
    {
     "data": {
      "text/plain": [
       "(29845, 4)"
      ]
     },
     "execution_count": 181,
     "metadata": {},
     "output_type": "execute_result"
    }
   ],
   "source": [
    "df_rfm_T1.shape"
   ]
  },
  {
   "cell_type": "code",
   "execution_count": 182,
   "id": "02945067-3f54-49c7-aa69-11411195b02f",
   "metadata": {},
   "outputs": [],
   "source": [
    "scaler1 = MinMaxScaler().set_output(transform=\"pandas\")"
   ]
  },
  {
   "cell_type": "code",
   "execution_count": 183,
   "id": "e28ebe20-1d1b-4971-963b-f0224a33752b",
   "metadata": {},
   "outputs": [
    {
     "data": {
      "text/html": [
       "<style>#sk-container-id-8 {color: black;background-color: white;}#sk-container-id-8 pre{padding: 0;}#sk-container-id-8 div.sk-toggleable {background-color: white;}#sk-container-id-8 label.sk-toggleable__label {cursor: pointer;display: block;width: 100%;margin-bottom: 0;padding: 0.3em;box-sizing: border-box;text-align: center;}#sk-container-id-8 label.sk-toggleable__label-arrow:before {content: \"▸\";float: left;margin-right: 0.25em;color: #696969;}#sk-container-id-8 label.sk-toggleable__label-arrow:hover:before {color: black;}#sk-container-id-8 div.sk-estimator:hover label.sk-toggleable__label-arrow:before {color: black;}#sk-container-id-8 div.sk-toggleable__content {max-height: 0;max-width: 0;overflow: hidden;text-align: left;background-color: #f0f8ff;}#sk-container-id-8 div.sk-toggleable__content pre {margin: 0.2em;color: black;border-radius: 0.25em;background-color: #f0f8ff;}#sk-container-id-8 input.sk-toggleable__control:checked~div.sk-toggleable__content {max-height: 200px;max-width: 100%;overflow: auto;}#sk-container-id-8 input.sk-toggleable__control:checked~label.sk-toggleable__label-arrow:before {content: \"▾\";}#sk-container-id-8 div.sk-estimator input.sk-toggleable__control:checked~label.sk-toggleable__label {background-color: #d4ebff;}#sk-container-id-8 div.sk-label input.sk-toggleable__control:checked~label.sk-toggleable__label {background-color: #d4ebff;}#sk-container-id-8 input.sk-hidden--visually {border: 0;clip: rect(1px 1px 1px 1px);clip: rect(1px, 1px, 1px, 1px);height: 1px;margin: -1px;overflow: hidden;padding: 0;position: absolute;width: 1px;}#sk-container-id-8 div.sk-estimator {font-family: monospace;background-color: #f0f8ff;border: 1px dotted black;border-radius: 0.25em;box-sizing: border-box;margin-bottom: 0.5em;}#sk-container-id-8 div.sk-estimator:hover {background-color: #d4ebff;}#sk-container-id-8 div.sk-parallel-item::after {content: \"\";width: 100%;border-bottom: 1px solid gray;flex-grow: 1;}#sk-container-id-8 div.sk-label:hover label.sk-toggleable__label {background-color: #d4ebff;}#sk-container-id-8 div.sk-serial::before {content: \"\";position: absolute;border-left: 1px solid gray;box-sizing: border-box;top: 0;bottom: 0;left: 50%;z-index: 0;}#sk-container-id-8 div.sk-serial {display: flex;flex-direction: column;align-items: center;background-color: white;padding-right: 0.2em;padding-left: 0.2em;position: relative;}#sk-container-id-8 div.sk-item {position: relative;z-index: 1;}#sk-container-id-8 div.sk-parallel {display: flex;align-items: stretch;justify-content: center;background-color: white;position: relative;}#sk-container-id-8 div.sk-item::before, #sk-container-id-8 div.sk-parallel-item::before {content: \"\";position: absolute;border-left: 1px solid gray;box-sizing: border-box;top: 0;bottom: 0;left: 50%;z-index: -1;}#sk-container-id-8 div.sk-parallel-item {display: flex;flex-direction: column;z-index: 1;position: relative;background-color: white;}#sk-container-id-8 div.sk-parallel-item:first-child::after {align-self: flex-end;width: 50%;}#sk-container-id-8 div.sk-parallel-item:last-child::after {align-self: flex-start;width: 50%;}#sk-container-id-8 div.sk-parallel-item:only-child::after {width: 0;}#sk-container-id-8 div.sk-dashed-wrapped {border: 1px dashed gray;margin: 0 0.4em 0.5em 0.4em;box-sizing: border-box;padding-bottom: 0.4em;background-color: white;}#sk-container-id-8 div.sk-label label {font-family: monospace;font-weight: bold;display: inline-block;line-height: 1.2em;}#sk-container-id-8 div.sk-label-container {text-align: center;}#sk-container-id-8 div.sk-container {/* jupyter's `normalize.less` sets `[hidden] { display: none; }` but bootstrap.min.css set `[hidden] { display: none !important; }` so we also need the `!important` here to be able to override the default hidden behavior on the sphinx rendered scikit-learn.org. See: https://github.com/scikit-learn/scikit-learn/issues/21755 */display: inline-block !important;position: relative;}#sk-container-id-8 div.sk-text-repr-fallback {display: none;}</style><div id=\"sk-container-id-8\" class=\"sk-top-container\"><div class=\"sk-text-repr-fallback\"><pre>MinMaxScaler()</pre><b>In a Jupyter environment, please rerun this cell to show the HTML representation or trust the notebook. <br />On GitHub, the HTML representation is unable to render, please try loading this page with nbviewer.org.</b></div><div class=\"sk-container\" hidden><div class=\"sk-item\"><div class=\"sk-estimator sk-toggleable\"><input class=\"sk-toggleable__control sk-hidden--visually\" id=\"sk-estimator-id-8\" type=\"checkbox\" checked><label for=\"sk-estimator-id-8\" class=\"sk-toggleable__label sk-toggleable__label-arrow\">MinMaxScaler</label><div class=\"sk-toggleable__content\"><pre>MinMaxScaler()</pre></div></div></div></div></div>"
      ],
      "text/plain": [
       "MinMaxScaler()"
      ]
     },
     "execution_count": 183,
     "metadata": {},
     "output_type": "execute_result"
    }
   ],
   "source": [
    "scaler1.fit(df_rfm_T1[cols])"
   ]
  },
  {
   "cell_type": "code",
   "execution_count": 184,
   "id": "fa5d5e4a-d596-4b70-9368-95c1d721aebd",
   "metadata": {},
   "outputs": [],
   "source": [
    "mk1 = train_model(df_rfm_T1, kmeans, scaler)"
   ]
  },
  {
   "cell_type": "code",
   "execution_count": 185,
   "id": "c17b1da8-97b5-490d-a3ff-b3f7e813ae5c",
   "metadata": {},
   "outputs": [],
   "source": [
    "df_rfm_T1['C1_mk0'] = predict_model(df_rfm_T1, mk0, scaler)"
   ]
  },
  {
   "cell_type": "code",
   "execution_count": 186,
   "id": "b73f7794-9927-4384-88af-f9de3388d2d4",
   "metadata": {},
   "outputs": [],
   "source": [
    "df_rfm_T1['C1_mk1'] = predict_model(df_rfm_T1, mk1, scaler)"
   ]
  },
  {
   "cell_type": "code",
   "execution_count": 187,
   "id": "8f5dfa48-475c-4f40-bc6e-dd2cd12f2b5b",
   "metadata": {},
   "outputs": [],
   "source": [
    "ARI = metrics.adjusted_rand_score (df_rfm_T1['C1_mk0'], df_rfm_T1['C1_mk1'])"
   ]
  },
  {
   "cell_type": "code",
   "execution_count": 188,
   "id": "a05f2edd-ff38-41e7-bffb-12169466741a",
   "metadata": {},
   "outputs": [
    {
     "name": "stdout",
     "output_type": "stream",
     "text": [
      "1.0\n"
     ]
    }
   ],
   "source": [
    "print(ARI)"
   ]
  },
  {
   "cell_type": "code",
   "execution_count": 189,
   "id": "42d5dcaa-b7c8-485f-84ad-2605df134a81",
   "metadata": {},
   "outputs": [],
   "source": [
    "ari_scores = []"
   ]
  },
  {
   "cell_type": "code",
   "execution_count": 190,
   "id": "0b1b98d0-d040-4aff-aaac-517f61e3c8b3",
   "metadata": {},
   "outputs": [
    {
     "name": "stdout",
     "output_type": "stream",
     "text": [
      "1\n",
      "2\n",
      "3\n",
      "4\n",
      "5\n",
      "6\n",
      "7\n",
      "8\n",
      "9\n"
     ]
    }
   ],
   "source": [
    "# tous les mois\n",
    "for i in range(1, len(range1)):\n",
    "    print(i)\n",
    "    data_T1 = df_mcommande_ordered[pd.to_datetime(df_mcommande_ordered['order_purchase_date']) < range1[i]]\n",
    "    df_rfm_T1 = generate_rfm_features(data_T1)\n",
    "    kmeans1 = KMeans(n_clusters = 3, n_init=\"auto\")\n",
    "    scaler1 = MinMaxScaler().set_output(transform=\"pandas\")\n",
    "    scaler1.fit(df_rfm_T1[cols])\n",
    "    mk1 = train_model(df_rfm_T1, kmeans1, scaler1)\n",
    "    models.append(mk1)\n",
    "    df_rfm_T1['C1_mk0'] = predict_model(df_rfm_T1, mk0, scaler)\n",
    "    df_rfm_T1['C1_mk1'] = predict_model(df_rfm_T1, models[i], scaler1)\n",
    "    ARI = metrics.adjusted_rand_score (df_rfm_T1['C1_mk0'], df_rfm_T1['C1_mk1'])\n",
    "    ari_scores.append(ARI)\n",
    "    "
   ]
  },
  {
   "cell_type": "code",
   "execution_count": 191,
   "id": "66eb9518-b2d8-4d27-a982-e959d2d16224",
   "metadata": {},
   "outputs": [
    {
     "data": {
      "text/plain": [
       "[0.8942569390616456,\n",
       " 0.80175499817054,\n",
       " 0.6659059502346248,\n",
       " 0.48961024657945434,\n",
       " 0.4222609037906302,\n",
       " 0.459234146512908,\n",
       " 0.3912321070238443,\n",
       " 0.385275764985282,\n",
       " 0.39427184771797136]"
      ]
     },
     "execution_count": 191,
     "metadata": {},
     "output_type": "execute_result"
    }
   ],
   "source": [
    "ari_scores"
   ]
  },
  {
   "cell_type": "code",
   "execution_count": 192,
   "id": "2eab5bfd-ee91-493f-a9fb-c6635f3cd7be",
   "metadata": {},
   "outputs": [],
   "source": [
    "d = {'periode': np.arange(1, 10, 1) , 'date': range1[1:10], 'ARI': ari_scores}\n",
    "df_ari_scores = pd.DataFrame(data=d)"
   ]
  },
  {
   "cell_type": "code",
   "execution_count": 193,
   "id": "42e3f37d-e7bb-4dfa-8219-50506b8ac4bb",
   "metadata": {},
   "outputs": [
    {
     "data": {
      "text/html": [
       "<div>\n",
       "<style scoped>\n",
       "    .dataframe tbody tr th:only-of-type {\n",
       "        vertical-align: middle;\n",
       "    }\n",
       "\n",
       "    .dataframe tbody tr th {\n",
       "        vertical-align: top;\n",
       "    }\n",
       "\n",
       "    .dataframe thead th {\n",
       "        text-align: right;\n",
       "    }\n",
       "</style>\n",
       "<table border=\"1\" class=\"dataframe\">\n",
       "  <thead>\n",
       "    <tr style=\"text-align: right;\">\n",
       "      <th></th>\n",
       "      <th>periode</th>\n",
       "      <th>date</th>\n",
       "      <th>ARI</th>\n",
       "    </tr>\n",
       "  </thead>\n",
       "  <tbody>\n",
       "    <tr>\n",
       "      <th>0</th>\n",
       "      <td>1</td>\n",
       "      <td>2017-11-30</td>\n",
       "      <td>0.894257</td>\n",
       "    </tr>\n",
       "    <tr>\n",
       "      <th>1</th>\n",
       "      <td>2</td>\n",
       "      <td>2017-12-31</td>\n",
       "      <td>0.801755</td>\n",
       "    </tr>\n",
       "    <tr>\n",
       "      <th>2</th>\n",
       "      <td>3</td>\n",
       "      <td>2018-01-31</td>\n",
       "      <td>0.665906</td>\n",
       "    </tr>\n",
       "    <tr>\n",
       "      <th>3</th>\n",
       "      <td>4</td>\n",
       "      <td>2018-02-28</td>\n",
       "      <td>0.489610</td>\n",
       "    </tr>\n",
       "    <tr>\n",
       "      <th>4</th>\n",
       "      <td>5</td>\n",
       "      <td>2018-03-31</td>\n",
       "      <td>0.422261</td>\n",
       "    </tr>\n",
       "    <tr>\n",
       "      <th>5</th>\n",
       "      <td>6</td>\n",
       "      <td>2018-04-30</td>\n",
       "      <td>0.459234</td>\n",
       "    </tr>\n",
       "    <tr>\n",
       "      <th>6</th>\n",
       "      <td>7</td>\n",
       "      <td>2018-05-31</td>\n",
       "      <td>0.391232</td>\n",
       "    </tr>\n",
       "    <tr>\n",
       "      <th>7</th>\n",
       "      <td>8</td>\n",
       "      <td>2018-06-30</td>\n",
       "      <td>0.385276</td>\n",
       "    </tr>\n",
       "    <tr>\n",
       "      <th>8</th>\n",
       "      <td>9</td>\n",
       "      <td>2018-07-31</td>\n",
       "      <td>0.394272</td>\n",
       "    </tr>\n",
       "  </tbody>\n",
       "</table>\n",
       "</div>"
      ],
      "text/plain": [
       "   periode       date       ARI\n",
       "0        1 2017-11-30  0.894257\n",
       "1        2 2017-12-31  0.801755\n",
       "2        3 2018-01-31  0.665906\n",
       "3        4 2018-02-28  0.489610\n",
       "4        5 2018-03-31  0.422261\n",
       "5        6 2018-04-30  0.459234\n",
       "6        7 2018-05-31  0.391232\n",
       "7        8 2018-06-30  0.385276\n",
       "8        9 2018-07-31  0.394272"
      ]
     },
     "execution_count": 193,
     "metadata": {},
     "output_type": "execute_result"
    }
   ],
   "source": [
    "df_ari_scores"
   ]
  },
  {
   "cell_type": "code",
   "execution_count": 194,
   "id": "c372214b-ca7a-49de-bca1-22b5e95eb142",
   "metadata": {},
   "outputs": [
    {
     "data": {
      "image/png": "[encoded data removed]",
      "text/plain": [
       "<Figure size 1200x800 with 1 Axes>"
      ]
     },
     "metadata": {},
     "output_type": "display_data"
    }
   ],
   "source": [
    "# plot ARI Score\n",
    "fig = plt.figure(figsize=(12,8))\n",
    "sns.lineplot(data=df_ari_scores, x=\"periode\", y=\"ARI\")\n",
    "plt.axhline(y=0.8, color='r', label='0.8', linestyle='--', linewidth=1)\n",
    "\n",
    "plt.xlabel(\"Période (mois)\")\n",
    "plt.ylabel(\"Score ARI\")\n",
    "plt.title(\"Stabilité temporelle de la segmentation par K-Means\",\n",
    "          fontsize=18,\n",
    "          color=\"b\")\n",
    "plt.show()"
   ]
  },
  {
   "cell_type": "code",
   "execution_count": null,
   "id": "c3dbfa76-5ba2-4393-9500-40688fd3a2a6",
   "metadata": {},
   "outputs": [],
   "source": []
  }
 ],
 "metadata": {
  "kernelspec": {
   "display_name": "Python 3 (ipykernel)",
   "language": "python",
   "name": "python3"
  },
  "language_info": {
   "codemirror_mode": {
    "name": "ipython",
    "version": 3
   },
   "file_extension": ".py",
   "mimetype": "text/x-python",
   "name": "python",
   "nbconvert_exporter": "python",
   "pygments_lexer": "ipython3",
   "version": "3.8.16"
  }
 },
 "nbformat": 4,
 "nbformat_minor": 5
}
